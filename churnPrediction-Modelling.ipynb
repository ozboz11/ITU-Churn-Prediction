{
 "cells": [
  {
   "cell_type": "code",
   "execution_count": 4,
   "id": "cd35a99b",
   "metadata": {},
   "outputs": [],
   "source": [
    "import pandas as pd\n",
    "import numpy as np\n",
    "import matplotlib.pyplot as plt\n",
    "import seaborn as sns\n",
    "from sklearn.model_selection import train_test_split,RepeatedStratifiedKFold,cross_val_score,StratifiedKFold\n",
    "from sklearn.preprocessing import StandardScaler,MinMaxScaler\n",
    "from sklearn.preprocessing import LabelEncoder\n",
    "from sklearn.utils import resample\n",
    "from sklearn.feature_selection import SelectKBest, f_classif\n",
    "from keras.models import Sequential\n",
    "from keras.layers import Dense, Dropout\n",
    "from sklearn.linear_model import LogisticRegression,LassoCV\n",
    "from sklearn.feature_selection import SelectKBest, chi2, f_classif, mutual_info_classif,VarianceThreshold,RFECV\n",
    "from sklearn.metrics import accuracy_score,confusion_matrix,recall_score\n",
    "from sklearn.metrics import f1_score,fbeta_score,make_scorer,roc_curve\n",
    "import warnings\n",
    "from sklearn.metrics import f1_score,recall_score,confusion_matrix,classification_report,roc_auc_score\n",
    "from keras.callbacks import EarlyStopping\n",
    "from keras.optimizers import Adam\n",
    "warnings.filterwarnings(\"ignore\")\n",
    "from keras import metrics\n",
    "from sklearn.ensemble import RandomForestClassifier, GradientBoostingClassifier, VotingClassifier,AdaBoostClassifier\n",
    "from sklearn.model_selection import GridSearchCV, train_test_split\n",
    "from sklearn.pipeline import Pipeline\n",
    "from sklearn.ensemble import ExtraTreesClassifier\n",
    "from catboost import CatBoostClassifier\n",
    "from lightgbm import LGBMClassifier\n",
    "from xgboost import XGBClassifier\n",
    "from sklearn.tree import DecisionTreeClassifier\n",
    "from sklearn.neural_network import MLPClassifier\n",
    "from sklearn.ensemble import StackingClassifier\n",
    "from sklearn.svm import SVC\n",
    "from sklearn.neighbors import KNeighborsClassifier\n",
    "from sklearn.decomposition import TruncatedSVD,NMF\n",
    "from sklearn.metrics import precision_recall_curve\n",
    "from sklearn.metrics import average_precision_score"
   ]
  },
  {
   "cell_type": "code",
   "execution_count": 5,
   "id": "f67d26cd",
   "metadata": {},
   "outputs": [],
   "source": [
    "df = pd.read_csv(\"C:/Users/ozcan/OneDrive/Masaüstü/Complete-Python-3-Bootcamp-master/UNZIP_FOR_NOTEBOOKS_FINAL/DATA/Telco-Customer-Churn.csv\")"
   ]
  },
  {
   "attachments": {},
   "cell_type": "markdown",
   "id": "d76ead7a",
   "metadata": {},
   "source": [
    "## PREPROCESSING"
   ]
  },
  {
   "cell_type": "code",
   "execution_count": 6,
   "id": "781586b1",
   "metadata": {},
   "outputs": [],
   "source": [
    "df=df[df[\"TotalCharges\"]!=\" \"]\n",
    "df['TotalCharges'] = df['TotalCharges'].astype(\"float\")\n",
    "df[\"SeniorCitizen\"]=df[\"SeniorCitizen\"].astype(\"object\")\n",
    "df.drop_duplicates(inplace=True)\n",
    "df=df.drop(\"customerID\",axis=1)"
   ]
  },
  {
   "cell_type": "code",
   "execution_count": 7,
   "id": "1cadd6c3",
   "metadata": {},
   "outputs": [],
   "source": [
    "df[\"Churn\"] = df[\"Churn\"].map({\"No\": 0, \"Yes\": 1})\n",
    "df= pd.get_dummies(df, drop_first= True)\n",
    "\n",
    "X = df.drop([\"Churn\"],axis = 1)\n",
    "\n",
    "y = df[\"Churn\"]"
   ]
  },
  {
   "cell_type": "code",
   "execution_count": 8,
   "id": "ec0292a2",
   "metadata": {},
   "outputs": [],
   "source": [
    "X_train, X_test, y_train , y_test = train_test_split(X,y,test_size=0.3,random_state=42)"
   ]
  },
  {
   "cell_type": "code",
   "execution_count": 9,
   "id": "db432e39",
   "metadata": {},
   "outputs": [],
   "source": [
    "cols = df.columns\n",
    "num_cols = [\"MonthlyCharges\",\"TotalCharges\",\"tenure\"]\n",
    "cat_cols= list(set(cols) - set(num_cols))"
   ]
  },
  {
   "cell_type": "code",
   "execution_count": 10,
   "id": "39f9b40b",
   "metadata": {},
   "outputs": [],
   "source": [
    "scaler = MinMaxScaler()\n",
    "scaler.fit(X_train[num_cols])\n",
    "X_train[num_cols] = scaler.transform(X_train[num_cols])\n",
    "X_test[num_cols] = scaler.transform(X_test[num_cols])"
   ]
  },
  {
   "cell_type": "code",
   "execution_count": 11,
   "id": "462e62f6",
   "metadata": {},
   "outputs": [
    {
     "name": "stdout",
     "output_type": "stream",
     "text": [
      "LogisticRegression:0.5803\n",
      "AdaBoostClassifier:0.5853\n",
      "RandomForestClassifier:0.5442\n",
      "DecisionTreeClassifier:0.5117\n",
      "Support Vector Classifier:0.5510\n",
      "Lightgbm:0.5714\n",
      "Learning rate set to 0.020346\n",
      "0:\tlearn: 0.6779840\ttotal: 147ms\tremaining: 2m 26s\n",
      "1:\tlearn: 0.6649889\ttotal: 150ms\tremaining: 1m 15s\n",
      "2:\tlearn: 0.6535494\ttotal: 154ms\tremaining: 51s\n",
      "3:\tlearn: 0.6408513\ttotal: 157ms\tremaining: 39.1s\n",
      "4:\tlearn: 0.6294526\ttotal: 160ms\tremaining: 31.8s\n",
      "5:\tlearn: 0.6189552\ttotal: 163ms\tremaining: 27s\n",
      "6:\tlearn: 0.6093718\ttotal: 166ms\tremaining: 23.5s\n",
      "7:\tlearn: 0.5999728\ttotal: 169ms\tremaining: 21s\n",
      "8:\tlearn: 0.5905054\ttotal: 172ms\tremaining: 19s\n",
      "9:\tlearn: 0.5811576\ttotal: 175ms\tremaining: 17.3s\n",
      "10:\tlearn: 0.5726223\ttotal: 178ms\tremaining: 16s\n",
      "11:\tlearn: 0.5636087\ttotal: 181ms\tremaining: 14.9s\n",
      "12:\tlearn: 0.5562819\ttotal: 184ms\tremaining: 14s\n",
      "13:\tlearn: 0.5501664\ttotal: 187ms\tremaining: 13.2s\n",
      "14:\tlearn: 0.5444831\ttotal: 190ms\tremaining: 12.5s\n",
      "15:\tlearn: 0.5377084\ttotal: 193ms\tremaining: 11.9s\n",
      "16:\tlearn: 0.5322112\ttotal: 195ms\tremaining: 11.3s\n",
      "17:\tlearn: 0.5256241\ttotal: 198ms\tremaining: 10.8s\n",
      "18:\tlearn: 0.5207204\ttotal: 201ms\tremaining: 10.4s\n",
      "19:\tlearn: 0.5157809\ttotal: 203ms\tremaining: 9.96s\n",
      "20:\tlearn: 0.5109263\ttotal: 206ms\tremaining: 9.61s\n",
      "21:\tlearn: 0.5068411\ttotal: 209ms\tremaining: 9.28s\n",
      "22:\tlearn: 0.5027867\ttotal: 212ms\tremaining: 9s\n",
      "23:\tlearn: 0.4985605\ttotal: 215ms\tremaining: 8.72s\n",
      "24:\tlearn: 0.4947113\ttotal: 217ms\tremaining: 8.47s\n",
      "25:\tlearn: 0.4912653\ttotal: 220ms\tremaining: 8.24s\n",
      "26:\tlearn: 0.4869925\ttotal: 223ms\tremaining: 8.02s\n",
      "27:\tlearn: 0.4838749\ttotal: 225ms\tremaining: 7.82s\n",
      "28:\tlearn: 0.4813095\ttotal: 228ms\tremaining: 7.64s\n",
      "29:\tlearn: 0.4773313\ttotal: 231ms\tremaining: 7.47s\n",
      "30:\tlearn: 0.4744820\ttotal: 234ms\tremaining: 7.32s\n",
      "31:\tlearn: 0.4716005\ttotal: 237ms\tremaining: 7.17s\n",
      "32:\tlearn: 0.4694414\ttotal: 240ms\tremaining: 7.03s\n",
      "33:\tlearn: 0.4669278\ttotal: 243ms\tremaining: 6.89s\n",
      "34:\tlearn: 0.4647345\ttotal: 245ms\tremaining: 6.76s\n",
      "35:\tlearn: 0.4624124\ttotal: 248ms\tremaining: 6.64s\n",
      "36:\tlearn: 0.4603309\ttotal: 251ms\tremaining: 6.53s\n",
      "37:\tlearn: 0.4584213\ttotal: 254ms\tremaining: 6.42s\n",
      "38:\tlearn: 0.4563803\ttotal: 256ms\tremaining: 6.31s\n",
      "39:\tlearn: 0.4543345\ttotal: 259ms\tremaining: 6.22s\n",
      "40:\tlearn: 0.4525994\ttotal: 262ms\tremaining: 6.13s\n",
      "41:\tlearn: 0.4506879\ttotal: 265ms\tremaining: 6.04s\n",
      "42:\tlearn: 0.4489753\ttotal: 268ms\tremaining: 5.96s\n",
      "43:\tlearn: 0.4473655\ttotal: 270ms\tremaining: 5.87s\n",
      "44:\tlearn: 0.4451603\ttotal: 273ms\tremaining: 5.8s\n",
      "45:\tlearn: 0.4436481\ttotal: 276ms\tremaining: 5.72s\n",
      "46:\tlearn: 0.4422414\ttotal: 279ms\tremaining: 5.66s\n",
      "47:\tlearn: 0.4408636\ttotal: 282ms\tremaining: 5.58s\n",
      "48:\tlearn: 0.4395964\ttotal: 284ms\tremaining: 5.52s\n",
      "49:\tlearn: 0.4382837\ttotal: 287ms\tremaining: 5.46s\n",
      "50:\tlearn: 0.4371356\ttotal: 290ms\tremaining: 5.4s\n",
      "51:\tlearn: 0.4359525\ttotal: 293ms\tremaining: 5.34s\n",
      "52:\tlearn: 0.4345794\ttotal: 296ms\tremaining: 5.28s\n",
      "53:\tlearn: 0.4330150\ttotal: 298ms\tremaining: 5.23s\n",
      "54:\tlearn: 0.4320619\ttotal: 301ms\tremaining: 5.18s\n",
      "55:\tlearn: 0.4307778\ttotal: 304ms\tremaining: 5.13s\n",
      "56:\tlearn: 0.4296960\ttotal: 307ms\tremaining: 5.08s\n",
      "57:\tlearn: 0.4288614\ttotal: 310ms\tremaining: 5.03s\n",
      "58:\tlearn: 0.4278245\ttotal: 313ms\tremaining: 4.99s\n",
      "59:\tlearn: 0.4270587\ttotal: 315ms\tremaining: 4.94s\n",
      "60:\tlearn: 0.4262250\ttotal: 319ms\tremaining: 4.9s\n",
      "61:\tlearn: 0.4251888\ttotal: 321ms\tremaining: 4.86s\n",
      "62:\tlearn: 0.4244231\ttotal: 324ms\tremaining: 4.82s\n",
      "63:\tlearn: 0.4235769\ttotal: 327ms\tremaining: 4.78s\n",
      "64:\tlearn: 0.4226571\ttotal: 330ms\tremaining: 4.74s\n",
      "65:\tlearn: 0.4220082\ttotal: 333ms\tremaining: 4.71s\n",
      "66:\tlearn: 0.4212834\ttotal: 335ms\tremaining: 4.67s\n",
      "67:\tlearn: 0.4205958\ttotal: 338ms\tremaining: 4.63s\n",
      "68:\tlearn: 0.4199599\ttotal: 341ms\tremaining: 4.6s\n",
      "69:\tlearn: 0.4193042\ttotal: 344ms\tremaining: 4.57s\n",
      "70:\tlearn: 0.4183060\ttotal: 347ms\tremaining: 4.54s\n",
      "71:\tlearn: 0.4176488\ttotal: 350ms\tremaining: 4.51s\n",
      "72:\tlearn: 0.4171372\ttotal: 353ms\tremaining: 4.48s\n",
      "73:\tlearn: 0.4166292\ttotal: 356ms\tremaining: 4.45s\n",
      "74:\tlearn: 0.4160945\ttotal: 358ms\tremaining: 4.42s\n",
      "75:\tlearn: 0.4153326\ttotal: 361ms\tremaining: 4.39s\n",
      "76:\tlearn: 0.4148270\ttotal: 364ms\tremaining: 4.37s\n",
      "77:\tlearn: 0.4143130\ttotal: 367ms\tremaining: 4.34s\n",
      "78:\tlearn: 0.4136548\ttotal: 370ms\tremaining: 4.31s\n",
      "79:\tlearn: 0.4130836\ttotal: 373ms\tremaining: 4.29s\n",
      "80:\tlearn: 0.4125958\ttotal: 376ms\tremaining: 4.27s\n",
      "81:\tlearn: 0.4120478\ttotal: 379ms\tremaining: 4.25s\n",
      "82:\tlearn: 0.4116173\ttotal: 382ms\tremaining: 4.22s\n",
      "83:\tlearn: 0.4110797\ttotal: 385ms\tremaining: 4.2s\n",
      "84:\tlearn: 0.4105056\ttotal: 388ms\tremaining: 4.18s\n",
      "85:\tlearn: 0.4100297\ttotal: 391ms\tremaining: 4.16s\n",
      "86:\tlearn: 0.4096469\ttotal: 394ms\tremaining: 4.13s\n",
      "87:\tlearn: 0.4090509\ttotal: 397ms\tremaining: 4.11s\n",
      "88:\tlearn: 0.4085120\ttotal: 400ms\tremaining: 4.09s\n",
      "89:\tlearn: 0.4081132\ttotal: 402ms\tremaining: 4.07s\n",
      "90:\tlearn: 0.4076443\ttotal: 405ms\tremaining: 4.05s\n",
      "91:\tlearn: 0.4073012\ttotal: 408ms\tremaining: 4.03s\n",
      "92:\tlearn: 0.4069439\ttotal: 411ms\tremaining: 4s\n",
      "93:\tlearn: 0.4064492\ttotal: 414ms\tremaining: 3.98s\n",
      "94:\tlearn: 0.4060672\ttotal: 416ms\tremaining: 3.96s\n",
      "95:\tlearn: 0.4057297\ttotal: 419ms\tremaining: 3.95s\n",
      "96:\tlearn: 0.4053015\ttotal: 422ms\tremaining: 3.93s\n",
      "97:\tlearn: 0.4047127\ttotal: 425ms\tremaining: 3.91s\n",
      "98:\tlearn: 0.4043709\ttotal: 427ms\tremaining: 3.89s\n",
      "99:\tlearn: 0.4039866\ttotal: 430ms\tremaining: 3.87s\n",
      "100:\tlearn: 0.4034995\ttotal: 433ms\tremaining: 3.85s\n",
      "101:\tlearn: 0.4031385\ttotal: 436ms\tremaining: 3.83s\n",
      "102:\tlearn: 0.4028008\ttotal: 438ms\tremaining: 3.82s\n",
      "103:\tlearn: 0.4024018\ttotal: 441ms\tremaining: 3.8s\n",
      "104:\tlearn: 0.4020238\ttotal: 444ms\tremaining: 3.78s\n",
      "105:\tlearn: 0.4017073\ttotal: 447ms\tremaining: 3.77s\n",
      "106:\tlearn: 0.4013329\ttotal: 449ms\tremaining: 3.75s\n",
      "107:\tlearn: 0.4010358\ttotal: 452ms\tremaining: 3.73s\n",
      "108:\tlearn: 0.4005598\ttotal: 455ms\tremaining: 3.72s\n",
      "109:\tlearn: 0.4001696\ttotal: 458ms\tremaining: 3.7s\n",
      "110:\tlearn: 0.3996339\ttotal: 460ms\tremaining: 3.69s\n",
      "111:\tlearn: 0.3993276\ttotal: 463ms\tremaining: 3.67s\n",
      "112:\tlearn: 0.3989434\ttotal: 466ms\tremaining: 3.66s\n",
      "113:\tlearn: 0.3987306\ttotal: 468ms\tremaining: 3.64s\n",
      "114:\tlearn: 0.3984357\ttotal: 471ms\tremaining: 3.63s\n",
      "115:\tlearn: 0.3981700\ttotal: 474ms\tremaining: 3.61s\n",
      "116:\tlearn: 0.3977960\ttotal: 477ms\tremaining: 3.6s\n",
      "117:\tlearn: 0.3974924\ttotal: 479ms\tremaining: 3.58s\n",
      "118:\tlearn: 0.3971046\ttotal: 482ms\tremaining: 3.57s\n",
      "119:\tlearn: 0.3968687\ttotal: 485ms\tremaining: 3.55s\n",
      "120:\tlearn: 0.3965440\ttotal: 487ms\tremaining: 3.54s\n",
      "121:\tlearn: 0.3961890\ttotal: 490ms\tremaining: 3.53s\n",
      "122:\tlearn: 0.3959942\ttotal: 493ms\tremaining: 3.51s\n",
      "123:\tlearn: 0.3957460\ttotal: 495ms\tremaining: 3.5s\n",
      "124:\tlearn: 0.3954437\ttotal: 498ms\tremaining: 3.48s\n",
      "125:\tlearn: 0.3952123\ttotal: 501ms\tremaining: 3.47s\n",
      "126:\tlearn: 0.3949275\ttotal: 503ms\tremaining: 3.46s\n",
      "127:\tlearn: 0.3947508\ttotal: 506ms\tremaining: 3.45s\n",
      "128:\tlearn: 0.3945059\ttotal: 509ms\tremaining: 3.43s\n",
      "129:\tlearn: 0.3942466\ttotal: 511ms\tremaining: 3.42s\n",
      "130:\tlearn: 0.3939626\ttotal: 514ms\tremaining: 3.41s\n",
      "131:\tlearn: 0.3937166\ttotal: 517ms\tremaining: 3.4s\n",
      "132:\tlearn: 0.3935715\ttotal: 520ms\tremaining: 3.39s\n",
      "133:\tlearn: 0.3933681\ttotal: 522ms\tremaining: 3.37s\n",
      "134:\tlearn: 0.3930482\ttotal: 525ms\tremaining: 3.36s\n",
      "135:\tlearn: 0.3925809\ttotal: 527ms\tremaining: 3.35s\n",
      "136:\tlearn: 0.3923765\ttotal: 530ms\tremaining: 3.34s\n",
      "137:\tlearn: 0.3920056\ttotal: 533ms\tremaining: 3.33s\n",
      "138:\tlearn: 0.3919543\ttotal: 535ms\tremaining: 3.31s\n",
      "139:\tlearn: 0.3916717\ttotal: 537ms\tremaining: 3.3s\n",
      "140:\tlearn: 0.3914549\ttotal: 540ms\tremaining: 3.29s\n",
      "141:\tlearn: 0.3912523\ttotal: 542ms\tremaining: 3.28s\n",
      "142:\tlearn: 0.3910369\ttotal: 545ms\tremaining: 3.27s\n",
      "143:\tlearn: 0.3909097\ttotal: 548ms\tremaining: 3.26s\n",
      "144:\tlearn: 0.3906179\ttotal: 550ms\tremaining: 3.25s\n",
      "145:\tlearn: 0.3903906\ttotal: 553ms\tremaining: 3.23s\n",
      "146:\tlearn: 0.3900986\ttotal: 556ms\tremaining: 3.23s\n",
      "147:\tlearn: 0.3898087\ttotal: 558ms\tremaining: 3.21s\n",
      "148:\tlearn: 0.3895779\ttotal: 561ms\tremaining: 3.2s\n",
      "149:\tlearn: 0.3893835\ttotal: 564ms\tremaining: 3.19s\n",
      "150:\tlearn: 0.3892185\ttotal: 567ms\tremaining: 3.19s\n",
      "151:\tlearn: 0.3890898\ttotal: 569ms\tremaining: 3.18s\n",
      "152:\tlearn: 0.3888335\ttotal: 572ms\tremaining: 3.17s\n",
      "153:\tlearn: 0.3884896\ttotal: 575ms\tremaining: 3.16s\n",
      "154:\tlearn: 0.3883724\ttotal: 577ms\tremaining: 3.15s\n",
      "155:\tlearn: 0.3883279\ttotal: 579ms\tremaining: 3.13s\n",
      "156:\tlearn: 0.3881326\ttotal: 582ms\tremaining: 3.12s\n",
      "157:\tlearn: 0.3879712\ttotal: 585ms\tremaining: 3.11s\n",
      "158:\tlearn: 0.3877311\ttotal: 587ms\tremaining: 3.1s\n",
      "159:\tlearn: 0.3875839\ttotal: 590ms\tremaining: 3.1s\n",
      "160:\tlearn: 0.3873924\ttotal: 592ms\tremaining: 3.09s\n",
      "161:\tlearn: 0.3871205\ttotal: 595ms\tremaining: 3.08s\n",
      "162:\tlearn: 0.3868859\ttotal: 598ms\tremaining: 3.07s\n",
      "163:\tlearn: 0.3866359\ttotal: 601ms\tremaining: 3.06s\n",
      "164:\tlearn: 0.3865591\ttotal: 603ms\tremaining: 3.05s\n",
      "165:\tlearn: 0.3862082\ttotal: 606ms\tremaining: 3.04s\n",
      "166:\tlearn: 0.3859924\ttotal: 608ms\tremaining: 3.03s\n",
      "167:\tlearn: 0.3859154\ttotal: 611ms\tremaining: 3.02s\n",
      "168:\tlearn: 0.3857720\ttotal: 614ms\tremaining: 3.02s\n",
      "169:\tlearn: 0.3856235\ttotal: 617ms\tremaining: 3.01s\n",
      "170:\tlearn: 0.3854124\ttotal: 625ms\tremaining: 3.03s\n",
      "171:\tlearn: 0.3851870\ttotal: 629ms\tremaining: 3.02s\n",
      "172:\tlearn: 0.3851534\ttotal: 631ms\tremaining: 3.01s\n",
      "173:\tlearn: 0.3848854\ttotal: 639ms\tremaining: 3.03s\n",
      "174:\tlearn: 0.3847597\ttotal: 641ms\tremaining: 3.02s\n",
      "175:\tlearn: 0.3845285\ttotal: 644ms\tremaining: 3.02s\n",
      "176:\tlearn: 0.3842928\ttotal: 647ms\tremaining: 3.01s\n",
      "177:\tlearn: 0.3840680\ttotal: 650ms\tremaining: 3s\n",
      "178:\tlearn: 0.3838896\ttotal: 653ms\tremaining: 2.99s\n",
      "179:\tlearn: 0.3836817\ttotal: 656ms\tremaining: 2.99s\n",
      "180:\tlearn: 0.3835182\ttotal: 658ms\tremaining: 2.98s\n",
      "181:\tlearn: 0.3834212\ttotal: 663ms\tremaining: 2.98s\n",
      "182:\tlearn: 0.3831560\ttotal: 666ms\tremaining: 2.97s\n",
      "183:\tlearn: 0.3829579\ttotal: 670ms\tremaining: 2.97s\n",
      "184:\tlearn: 0.3827353\ttotal: 672ms\tremaining: 2.96s\n",
      "185:\tlearn: 0.3825823\ttotal: 675ms\tremaining: 2.95s\n",
      "186:\tlearn: 0.3824260\ttotal: 678ms\tremaining: 2.95s\n",
      "187:\tlearn: 0.3824088\ttotal: 680ms\tremaining: 2.94s\n",
      "188:\tlearn: 0.3822644\ttotal: 683ms\tremaining: 2.93s\n",
      "189:\tlearn: 0.3820437\ttotal: 686ms\tremaining: 2.92s\n",
      "190:\tlearn: 0.3818889\ttotal: 689ms\tremaining: 2.92s\n",
      "191:\tlearn: 0.3817478\ttotal: 692ms\tremaining: 2.91s\n",
      "192:\tlearn: 0.3815763\ttotal: 694ms\tremaining: 2.9s\n",
      "193:\tlearn: 0.3814909\ttotal: 698ms\tremaining: 2.9s\n",
      "194:\tlearn: 0.3813427\ttotal: 700ms\tremaining: 2.89s\n",
      "195:\tlearn: 0.3811983\ttotal: 703ms\tremaining: 2.88s\n",
      "196:\tlearn: 0.3809141\ttotal: 706ms\tremaining: 2.88s\n",
      "197:\tlearn: 0.3807996\ttotal: 709ms\tremaining: 2.87s\n",
      "198:\tlearn: 0.3805753\ttotal: 712ms\tremaining: 2.87s\n",
      "199:\tlearn: 0.3803280\ttotal: 715ms\tremaining: 2.86s\n",
      "200:\tlearn: 0.3801149\ttotal: 718ms\tremaining: 2.85s\n",
      "201:\tlearn: 0.3798914\ttotal: 721ms\tremaining: 2.85s\n",
      "202:\tlearn: 0.3796918\ttotal: 723ms\tremaining: 2.84s\n",
      "203:\tlearn: 0.3795704\ttotal: 726ms\tremaining: 2.83s\n",
      "204:\tlearn: 0.3793005\ttotal: 729ms\tremaining: 2.83s\n",
      "205:\tlearn: 0.3790686\ttotal: 731ms\tremaining: 2.82s\n",
      "206:\tlearn: 0.3788685\ttotal: 734ms\tremaining: 2.81s\n",
      "207:\tlearn: 0.3786947\ttotal: 736ms\tremaining: 2.8s\n",
      "208:\tlearn: 0.3784948\ttotal: 739ms\tremaining: 2.8s\n",
      "209:\tlearn: 0.3782921\ttotal: 741ms\tremaining: 2.79s\n",
      "210:\tlearn: 0.3781169\ttotal: 744ms\tremaining: 2.78s\n",
      "211:\tlearn: 0.3779040\ttotal: 747ms\tremaining: 2.77s\n",
      "212:\tlearn: 0.3777422\ttotal: 749ms\tremaining: 2.77s\n",
      "213:\tlearn: 0.3775573\ttotal: 752ms\tremaining: 2.76s\n",
      "214:\tlearn: 0.3774184\ttotal: 754ms\tremaining: 2.75s\n",
      "215:\tlearn: 0.3771724\ttotal: 757ms\tremaining: 2.75s\n",
      "216:\tlearn: 0.3770428\ttotal: 760ms\tremaining: 2.74s\n",
      "217:\tlearn: 0.3768437\ttotal: 763ms\tremaining: 2.73s\n",
      "218:\tlearn: 0.3766696\ttotal: 765ms\tremaining: 2.73s\n",
      "219:\tlearn: 0.3764723\ttotal: 768ms\tremaining: 2.72s\n",
      "220:\tlearn: 0.3763218\ttotal: 770ms\tremaining: 2.71s\n",
      "221:\tlearn: 0.3761437\ttotal: 773ms\tremaining: 2.71s\n",
      "222:\tlearn: 0.3759581\ttotal: 776ms\tremaining: 2.7s\n",
      "223:\tlearn: 0.3757397\ttotal: 779ms\tremaining: 2.7s\n",
      "224:\tlearn: 0.3756384\ttotal: 782ms\tremaining: 2.69s\n",
      "225:\tlearn: 0.3754841\ttotal: 784ms\tremaining: 2.69s\n",
      "226:\tlearn: 0.3752389\ttotal: 787ms\tremaining: 2.68s\n",
      "227:\tlearn: 0.3751263\ttotal: 790ms\tremaining: 2.67s\n",
      "228:\tlearn: 0.3749111\ttotal: 792ms\tremaining: 2.67s\n",
      "229:\tlearn: 0.3748327\ttotal: 795ms\tremaining: 2.66s\n",
      "230:\tlearn: 0.3747216\ttotal: 798ms\tremaining: 2.65s\n",
      "231:\tlearn: 0.3746358\ttotal: 800ms\tremaining: 2.65s\n",
      "232:\tlearn: 0.3744596\ttotal: 803ms\tremaining: 2.64s\n",
      "233:\tlearn: 0.3743813\ttotal: 806ms\tremaining: 2.64s\n",
      "234:\tlearn: 0.3740201\ttotal: 809ms\tremaining: 2.63s\n",
      "235:\tlearn: 0.3737708\ttotal: 811ms\tremaining: 2.63s\n",
      "236:\tlearn: 0.3735646\ttotal: 814ms\tremaining: 2.62s\n",
      "237:\tlearn: 0.3733236\ttotal: 817ms\tremaining: 2.62s\n",
      "238:\tlearn: 0.3732495\ttotal: 820ms\tremaining: 2.61s\n",
      "239:\tlearn: 0.3730673\ttotal: 823ms\tremaining: 2.6s\n",
      "240:\tlearn: 0.3729237\ttotal: 825ms\tremaining: 2.6s\n",
      "241:\tlearn: 0.3726776\ttotal: 828ms\tremaining: 2.59s\n",
      "242:\tlearn: 0.3725381\ttotal: 831ms\tremaining: 2.59s\n",
      "243:\tlearn: 0.3724436\ttotal: 834ms\tremaining: 2.58s\n",
      "244:\tlearn: 0.3722113\ttotal: 837ms\tremaining: 2.58s\n",
      "245:\tlearn: 0.3721028\ttotal: 840ms\tremaining: 2.57s\n",
      "246:\tlearn: 0.3719582\ttotal: 843ms\tremaining: 2.57s\n",
      "247:\tlearn: 0.3716828\ttotal: 846ms\tremaining: 2.56s\n",
      "248:\tlearn: 0.3715562\ttotal: 849ms\tremaining: 2.56s\n",
      "249:\tlearn: 0.3714710\ttotal: 852ms\tremaining: 2.56s\n",
      "250:\tlearn: 0.3713142\ttotal: 854ms\tremaining: 2.55s\n",
      "251:\tlearn: 0.3711789\ttotal: 858ms\tremaining: 2.54s\n",
      "252:\tlearn: 0.3709794\ttotal: 861ms\tremaining: 2.54s\n",
      "253:\tlearn: 0.3707104\ttotal: 864ms\tremaining: 2.54s\n",
      "254:\tlearn: 0.3705096\ttotal: 867ms\tremaining: 2.53s\n",
      "255:\tlearn: 0.3704010\ttotal: 870ms\tremaining: 2.53s\n",
      "256:\tlearn: 0.3701906\ttotal: 873ms\tremaining: 2.52s\n",
      "257:\tlearn: 0.3700805\ttotal: 875ms\tremaining: 2.52s\n",
      "258:\tlearn: 0.3697516\ttotal: 878ms\tremaining: 2.51s\n",
      "259:\tlearn: 0.3696590\ttotal: 881ms\tremaining: 2.51s\n",
      "260:\tlearn: 0.3695243\ttotal: 884ms\tremaining: 2.5s\n",
      "261:\tlearn: 0.3693609\ttotal: 887ms\tremaining: 2.5s\n",
      "262:\tlearn: 0.3691943\ttotal: 889ms\tremaining: 2.49s\n",
      "263:\tlearn: 0.3691069\ttotal: 892ms\tremaining: 2.49s\n",
      "264:\tlearn: 0.3689924\ttotal: 895ms\tremaining: 2.48s\n",
      "265:\tlearn: 0.3688895\ttotal: 898ms\tremaining: 2.48s\n",
      "266:\tlearn: 0.3686818\ttotal: 901ms\tremaining: 2.47s\n",
      "267:\tlearn: 0.3685344\ttotal: 903ms\tremaining: 2.47s\n",
      "268:\tlearn: 0.3684020\ttotal: 906ms\tremaining: 2.46s\n",
      "269:\tlearn: 0.3682689\ttotal: 909ms\tremaining: 2.46s\n",
      "270:\tlearn: 0.3681990\ttotal: 912ms\tremaining: 2.45s\n",
      "271:\tlearn: 0.3680548\ttotal: 914ms\tremaining: 2.45s\n",
      "272:\tlearn: 0.3678159\ttotal: 917ms\tremaining: 2.44s\n",
      "273:\tlearn: 0.3676127\ttotal: 920ms\tremaining: 2.44s\n",
      "274:\tlearn: 0.3674626\ttotal: 923ms\tremaining: 2.43s\n",
      "275:\tlearn: 0.3672952\ttotal: 926ms\tremaining: 2.43s\n",
      "276:\tlearn: 0.3671859\ttotal: 928ms\tremaining: 2.42s\n",
      "277:\tlearn: 0.3670846\ttotal: 931ms\tremaining: 2.42s\n",
      "278:\tlearn: 0.3669640\ttotal: 934ms\tremaining: 2.41s\n",
      "279:\tlearn: 0.3669550\ttotal: 936ms\tremaining: 2.41s\n",
      "280:\tlearn: 0.3668697\ttotal: 939ms\tremaining: 2.4s\n",
      "281:\tlearn: 0.3667197\ttotal: 941ms\tremaining: 2.4s\n",
      "282:\tlearn: 0.3663893\ttotal: 944ms\tremaining: 2.39s\n",
      "283:\tlearn: 0.3660717\ttotal: 947ms\tremaining: 2.39s\n",
      "284:\tlearn: 0.3659082\ttotal: 949ms\tremaining: 2.38s\n",
      "285:\tlearn: 0.3658347\ttotal: 952ms\tremaining: 2.38s\n",
      "286:\tlearn: 0.3657304\ttotal: 955ms\tremaining: 2.37s\n",
      "287:\tlearn: 0.3656334\ttotal: 957ms\tremaining: 2.37s\n",
      "288:\tlearn: 0.3655222\ttotal: 960ms\tremaining: 2.36s\n",
      "289:\tlearn: 0.3653924\ttotal: 963ms\tremaining: 2.36s\n",
      "290:\tlearn: 0.3652613\ttotal: 965ms\tremaining: 2.35s\n",
      "291:\tlearn: 0.3651111\ttotal: 968ms\tremaining: 2.35s\n",
      "292:\tlearn: 0.3649113\ttotal: 971ms\tremaining: 2.34s\n",
      "293:\tlearn: 0.3648348\ttotal: 974ms\tremaining: 2.34s\n",
      "294:\tlearn: 0.3647239\ttotal: 976ms\tremaining: 2.33s\n",
      "295:\tlearn: 0.3646129\ttotal: 979ms\tremaining: 2.33s\n",
      "296:\tlearn: 0.3645624\ttotal: 982ms\tremaining: 2.32s\n",
      "297:\tlearn: 0.3645535\ttotal: 984ms\tremaining: 2.32s\n",
      "298:\tlearn: 0.3644663\ttotal: 986ms\tremaining: 2.31s\n",
      "299:\tlearn: 0.3642292\ttotal: 989ms\tremaining: 2.31s\n",
      "300:\tlearn: 0.3641616\ttotal: 991ms\tremaining: 2.3s\n",
      "301:\tlearn: 0.3640609\ttotal: 994ms\tremaining: 2.3s\n",
      "302:\tlearn: 0.3639402\ttotal: 997ms\tremaining: 2.29s\n",
      "303:\tlearn: 0.3638471\ttotal: 1000ms\tremaining: 2.29s\n",
      "304:\tlearn: 0.3636681\ttotal: 1s\tremaining: 2.28s\n",
      "305:\tlearn: 0.3635647\ttotal: 1s\tremaining: 2.28s\n",
      "306:\tlearn: 0.3634460\ttotal: 1.01s\tremaining: 2.27s\n",
      "307:\tlearn: 0.3633675\ttotal: 1.01s\tremaining: 2.27s\n",
      "308:\tlearn: 0.3632830\ttotal: 1.01s\tremaining: 2.27s\n",
      "309:\tlearn: 0.3631910\ttotal: 1.01s\tremaining: 2.26s\n",
      "310:\tlearn: 0.3631196\ttotal: 1.02s\tremaining: 2.26s\n",
      "311:\tlearn: 0.3629643\ttotal: 1.02s\tremaining: 2.25s\n",
      "312:\tlearn: 0.3628454\ttotal: 1.02s\tremaining: 2.25s\n",
      "313:\tlearn: 0.3626584\ttotal: 1.03s\tremaining: 2.24s\n",
      "314:\tlearn: 0.3624625\ttotal: 1.03s\tremaining: 2.24s\n",
      "315:\tlearn: 0.3623534\ttotal: 1.03s\tremaining: 2.23s\n",
      "316:\tlearn: 0.3622616\ttotal: 1.03s\tremaining: 2.23s\n",
      "317:\tlearn: 0.3620850\ttotal: 1.04s\tremaining: 2.22s\n",
      "318:\tlearn: 0.3619865\ttotal: 1.04s\tremaining: 2.22s\n",
      "319:\tlearn: 0.3619318\ttotal: 1.04s\tremaining: 2.21s\n",
      "320:\tlearn: 0.3618041\ttotal: 1.04s\tremaining: 2.21s\n",
      "321:\tlearn: 0.3617956\ttotal: 1.05s\tremaining: 2.21s\n",
      "322:\tlearn: 0.3616417\ttotal: 1.05s\tremaining: 2.2s\n",
      "323:\tlearn: 0.3614230\ttotal: 1.05s\tremaining: 2.2s\n",
      "324:\tlearn: 0.3613490\ttotal: 1.05s\tremaining: 2.19s\n",
      "325:\tlearn: 0.3610718\ttotal: 1.06s\tremaining: 2.19s\n",
      "326:\tlearn: 0.3609704\ttotal: 1.06s\tremaining: 2.18s\n",
      "327:\tlearn: 0.3607981\ttotal: 1.06s\tremaining: 2.18s\n",
      "328:\tlearn: 0.3606353\ttotal: 1.07s\tremaining: 2.17s\n",
      "329:\tlearn: 0.3604526\ttotal: 1.07s\tremaining: 2.17s\n",
      "330:\tlearn: 0.3603555\ttotal: 1.07s\tremaining: 2.17s\n",
      "331:\tlearn: 0.3601895\ttotal: 1.07s\tremaining: 2.16s\n",
      "332:\tlearn: 0.3600108\ttotal: 1.08s\tremaining: 2.16s\n",
      "333:\tlearn: 0.3597927\ttotal: 1.08s\tremaining: 2.15s\n",
      "334:\tlearn: 0.3597376\ttotal: 1.08s\tremaining: 2.15s\n",
      "335:\tlearn: 0.3595364\ttotal: 1.09s\tremaining: 2.15s\n",
      "336:\tlearn: 0.3592829\ttotal: 1.09s\tremaining: 2.15s\n",
      "337:\tlearn: 0.3591753\ttotal: 1.09s\tremaining: 2.14s\n",
      "338:\tlearn: 0.3590071\ttotal: 1.1s\tremaining: 2.14s\n",
      "339:\tlearn: 0.3588608\ttotal: 1.1s\tremaining: 2.14s\n",
      "340:\tlearn: 0.3588047\ttotal: 1.11s\tremaining: 2.14s\n",
      "341:\tlearn: 0.3586704\ttotal: 1.11s\tremaining: 2.13s\n",
      "342:\tlearn: 0.3585477\ttotal: 1.11s\tremaining: 2.13s\n",
      "343:\tlearn: 0.3583347\ttotal: 1.12s\tremaining: 2.13s\n",
      "344:\tlearn: 0.3582665\ttotal: 1.12s\tremaining: 2.12s\n",
      "345:\tlearn: 0.3579447\ttotal: 1.12s\tremaining: 2.12s\n",
      "346:\tlearn: 0.3577574\ttotal: 1.13s\tremaining: 2.12s\n",
      "347:\tlearn: 0.3577165\ttotal: 1.13s\tremaining: 2.11s\n",
      "348:\tlearn: 0.3576205\ttotal: 1.13s\tremaining: 2.11s\n",
      "349:\tlearn: 0.3574826\ttotal: 1.13s\tremaining: 2.11s\n",
      "350:\tlearn: 0.3573155\ttotal: 1.14s\tremaining: 2.1s\n",
      "351:\tlearn: 0.3571791\ttotal: 1.14s\tremaining: 2.1s\n",
      "352:\tlearn: 0.3570901\ttotal: 1.14s\tremaining: 2.1s\n",
      "353:\tlearn: 0.3570122\ttotal: 1.15s\tremaining: 2.09s\n",
      "354:\tlearn: 0.3569244\ttotal: 1.15s\tremaining: 2.09s\n",
      "355:\tlearn: 0.3567197\ttotal: 1.15s\tremaining: 2.08s\n",
      "356:\tlearn: 0.3564980\ttotal: 1.15s\tremaining: 2.08s\n",
      "357:\tlearn: 0.3563770\ttotal: 1.16s\tremaining: 2.08s\n",
      "358:\tlearn: 0.3562657\ttotal: 1.16s\tremaining: 2.07s\n",
      "359:\tlearn: 0.3561778\ttotal: 1.16s\tremaining: 2.07s\n",
      "360:\tlearn: 0.3560149\ttotal: 1.17s\tremaining: 2.06s\n",
      "361:\tlearn: 0.3558908\ttotal: 1.17s\tremaining: 2.06s\n",
      "362:\tlearn: 0.3557910\ttotal: 1.17s\tremaining: 2.06s\n",
      "363:\tlearn: 0.3556704\ttotal: 1.18s\tremaining: 2.05s\n",
      "364:\tlearn: 0.3555628\ttotal: 1.18s\tremaining: 2.05s\n",
      "365:\tlearn: 0.3554070\ttotal: 1.18s\tremaining: 2.04s\n",
      "366:\tlearn: 0.3552923\ttotal: 1.18s\tremaining: 2.04s\n",
      "367:\tlearn: 0.3552841\ttotal: 1.19s\tremaining: 2.04s\n",
      "368:\tlearn: 0.3551040\ttotal: 1.19s\tremaining: 2.03s\n",
      "369:\tlearn: 0.3548266\ttotal: 1.19s\tremaining: 2.03s\n",
      "370:\tlearn: 0.3546824\ttotal: 1.19s\tremaining: 2.02s\n",
      "371:\tlearn: 0.3545795\ttotal: 1.2s\tremaining: 2.02s\n",
      "372:\tlearn: 0.3544090\ttotal: 1.2s\tremaining: 2.02s\n",
      "373:\tlearn: 0.3541779\ttotal: 1.2s\tremaining: 2.01s\n",
      "374:\tlearn: 0.3541074\ttotal: 1.21s\tremaining: 2.01s\n",
      "375:\tlearn: 0.3539750\ttotal: 1.21s\tremaining: 2.01s\n",
      "376:\tlearn: 0.3538712\ttotal: 1.21s\tremaining: 2s\n",
      "377:\tlearn: 0.3536497\ttotal: 1.21s\tremaining: 2s\n",
      "378:\tlearn: 0.3535339\ttotal: 1.22s\tremaining: 1.99s\n",
      "379:\tlearn: 0.3534407\ttotal: 1.22s\tremaining: 1.99s\n",
      "380:\tlearn: 0.3533419\ttotal: 1.22s\tremaining: 1.99s\n",
      "381:\tlearn: 0.3531931\ttotal: 1.23s\tremaining: 1.98s\n",
      "382:\tlearn: 0.3529054\ttotal: 1.23s\tremaining: 1.98s\n",
      "383:\tlearn: 0.3527914\ttotal: 1.23s\tremaining: 1.98s\n",
      "384:\tlearn: 0.3526327\ttotal: 1.23s\tremaining: 1.97s\n",
      "385:\tlearn: 0.3524958\ttotal: 1.24s\tremaining: 1.97s\n",
      "386:\tlearn: 0.3523894\ttotal: 1.24s\tremaining: 1.96s\n",
      "387:\tlearn: 0.3522333\ttotal: 1.24s\tremaining: 1.96s\n",
      "388:\tlearn: 0.3521673\ttotal: 1.25s\tremaining: 1.96s\n",
      "389:\tlearn: 0.3519580\ttotal: 1.25s\tremaining: 1.95s\n",
      "390:\tlearn: 0.3518598\ttotal: 1.25s\tremaining: 1.95s\n",
      "391:\tlearn: 0.3517548\ttotal: 1.25s\tremaining: 1.94s\n",
      "392:\tlearn: 0.3516885\ttotal: 1.25s\tremaining: 1.94s\n",
      "393:\tlearn: 0.3515636\ttotal: 1.26s\tremaining: 1.94s\n",
      "394:\tlearn: 0.3513011\ttotal: 1.26s\tremaining: 1.93s\n",
      "395:\tlearn: 0.3511088\ttotal: 1.26s\tremaining: 1.93s\n",
      "396:\tlearn: 0.3509161\ttotal: 1.27s\tremaining: 1.92s\n",
      "397:\tlearn: 0.3508490\ttotal: 1.27s\tremaining: 1.92s\n",
      "398:\tlearn: 0.3507843\ttotal: 1.27s\tremaining: 1.92s\n",
      "399:\tlearn: 0.3505856\ttotal: 1.27s\tremaining: 1.91s\n",
      "400:\tlearn: 0.3504754\ttotal: 1.28s\tremaining: 1.91s\n",
      "401:\tlearn: 0.3503380\ttotal: 1.28s\tremaining: 1.91s\n",
      "402:\tlearn: 0.3502762\ttotal: 1.28s\tremaining: 1.9s\n",
      "403:\tlearn: 0.3500845\ttotal: 1.29s\tremaining: 1.9s\n",
      "404:\tlearn: 0.3500005\ttotal: 1.29s\tremaining: 1.89s\n",
      "405:\tlearn: 0.3499233\ttotal: 1.29s\tremaining: 1.89s\n",
      "406:\tlearn: 0.3498640\ttotal: 1.29s\tremaining: 1.89s\n",
      "407:\tlearn: 0.3496434\ttotal: 1.3s\tremaining: 1.88s\n",
      "408:\tlearn: 0.3494311\ttotal: 1.3s\tremaining: 1.88s\n",
      "409:\tlearn: 0.3493482\ttotal: 1.3s\tremaining: 1.87s\n",
      "410:\tlearn: 0.3491428\ttotal: 1.3s\tremaining: 1.87s\n",
      "411:\tlearn: 0.3490282\ttotal: 1.31s\tremaining: 1.87s\n",
      "412:\tlearn: 0.3489519\ttotal: 1.31s\tremaining: 1.86s\n",
      "413:\tlearn: 0.3488678\ttotal: 1.31s\tremaining: 1.86s\n",
      "414:\tlearn: 0.3487407\ttotal: 1.31s\tremaining: 1.85s\n",
      "415:\tlearn: 0.3486366\ttotal: 1.32s\tremaining: 1.85s\n",
      "416:\tlearn: 0.3485332\ttotal: 1.32s\tremaining: 1.85s\n",
      "417:\tlearn: 0.3484335\ttotal: 1.32s\tremaining: 1.84s\n",
      "418:\tlearn: 0.3482769\ttotal: 1.33s\tremaining: 1.84s\n",
      "419:\tlearn: 0.3480922\ttotal: 1.33s\tremaining: 1.84s\n",
      "420:\tlearn: 0.3480263\ttotal: 1.33s\tremaining: 1.83s\n",
      "421:\tlearn: 0.3479069\ttotal: 1.33s\tremaining: 1.83s\n",
      "422:\tlearn: 0.3477842\ttotal: 1.34s\tremaining: 1.82s\n",
      "423:\tlearn: 0.3476361\ttotal: 1.34s\tremaining: 1.82s\n",
      "424:\tlearn: 0.3473676\ttotal: 1.34s\tremaining: 1.82s\n",
      "425:\tlearn: 0.3472067\ttotal: 1.35s\tremaining: 1.81s\n",
      "426:\tlearn: 0.3471079\ttotal: 1.35s\tremaining: 1.81s\n",
      "427:\tlearn: 0.3469480\ttotal: 1.35s\tremaining: 1.81s\n",
      "428:\tlearn: 0.3468039\ttotal: 1.35s\tremaining: 1.8s\n",
      "429:\tlearn: 0.3466071\ttotal: 1.36s\tremaining: 1.8s\n",
      "430:\tlearn: 0.3464431\ttotal: 1.36s\tremaining: 1.8s\n",
      "431:\tlearn: 0.3463479\ttotal: 1.36s\tremaining: 1.79s\n",
      "432:\tlearn: 0.3461433\ttotal: 1.37s\tremaining: 1.79s\n",
      "433:\tlearn: 0.3460695\ttotal: 1.37s\tremaining: 1.78s\n",
      "434:\tlearn: 0.3459096\ttotal: 1.37s\tremaining: 1.78s\n",
      "435:\tlearn: 0.3455845\ttotal: 1.38s\tremaining: 1.78s\n",
      "436:\tlearn: 0.3454503\ttotal: 1.38s\tremaining: 1.77s\n",
      "437:\tlearn: 0.3453066\ttotal: 1.38s\tremaining: 1.77s\n",
      "438:\tlearn: 0.3452093\ttotal: 1.38s\tremaining: 1.77s\n",
      "439:\tlearn: 0.3451019\ttotal: 1.39s\tremaining: 1.76s\n",
      "440:\tlearn: 0.3450264\ttotal: 1.39s\tremaining: 1.76s\n",
      "441:\tlearn: 0.3449115\ttotal: 1.39s\tremaining: 1.76s\n",
      "442:\tlearn: 0.3447791\ttotal: 1.39s\tremaining: 1.75s\n",
      "443:\tlearn: 0.3446558\ttotal: 1.4s\tremaining: 1.75s\n",
      "444:\tlearn: 0.3445456\ttotal: 1.4s\tremaining: 1.75s\n",
      "445:\tlearn: 0.3443444\ttotal: 1.4s\tremaining: 1.74s\n",
      "446:\tlearn: 0.3442315\ttotal: 1.4s\tremaining: 1.74s\n",
      "447:\tlearn: 0.3441730\ttotal: 1.41s\tremaining: 1.73s\n",
      "448:\tlearn: 0.3440312\ttotal: 1.41s\tremaining: 1.73s\n",
      "449:\tlearn: 0.3439554\ttotal: 1.41s\tremaining: 1.73s\n",
      "450:\tlearn: 0.3438405\ttotal: 1.42s\tremaining: 1.72s\n",
      "451:\tlearn: 0.3436892\ttotal: 1.42s\tremaining: 1.72s\n",
      "452:\tlearn: 0.3435771\ttotal: 1.42s\tremaining: 1.72s\n",
      "453:\tlearn: 0.3434286\ttotal: 1.42s\tremaining: 1.71s\n",
      "454:\tlearn: 0.3433687\ttotal: 1.43s\tremaining: 1.71s\n",
      "455:\tlearn: 0.3432742\ttotal: 1.43s\tremaining: 1.7s\n",
      "456:\tlearn: 0.3431762\ttotal: 1.43s\tremaining: 1.7s\n",
      "457:\tlearn: 0.3431174\ttotal: 1.43s\tremaining: 1.7s\n",
      "458:\tlearn: 0.3430016\ttotal: 1.44s\tremaining: 1.69s\n",
      "459:\tlearn: 0.3428667\ttotal: 1.44s\tremaining: 1.69s\n",
      "460:\tlearn: 0.3427785\ttotal: 1.44s\tremaining: 1.69s\n",
      "461:\tlearn: 0.3426415\ttotal: 1.45s\tremaining: 1.68s\n",
      "462:\tlearn: 0.3425573\ttotal: 1.45s\tremaining: 1.68s\n",
      "463:\tlearn: 0.3424752\ttotal: 1.45s\tremaining: 1.68s\n",
      "464:\tlearn: 0.3423088\ttotal: 1.45s\tremaining: 1.67s\n",
      "465:\tlearn: 0.3421961\ttotal: 1.46s\tremaining: 1.67s\n",
      "466:\tlearn: 0.3420817\ttotal: 1.46s\tremaining: 1.66s\n",
      "467:\tlearn: 0.3419396\ttotal: 1.46s\tremaining: 1.66s\n",
      "468:\tlearn: 0.3418758\ttotal: 1.46s\tremaining: 1.66s\n",
      "469:\tlearn: 0.3417729\ttotal: 1.47s\tremaining: 1.65s\n",
      "470:\tlearn: 0.3416273\ttotal: 1.47s\tremaining: 1.65s\n",
      "471:\tlearn: 0.3415243\ttotal: 1.47s\tremaining: 1.65s\n",
      "472:\tlearn: 0.3413434\ttotal: 1.47s\tremaining: 1.64s\n",
      "473:\tlearn: 0.3412395\ttotal: 1.48s\tremaining: 1.64s\n",
      "474:\tlearn: 0.3411182\ttotal: 1.48s\tremaining: 1.64s\n",
      "475:\tlearn: 0.3410037\ttotal: 1.48s\tremaining: 1.63s\n",
      "476:\tlearn: 0.3408329\ttotal: 1.49s\tremaining: 1.63s\n",
      "477:\tlearn: 0.3407140\ttotal: 1.49s\tremaining: 1.63s\n",
      "478:\tlearn: 0.3405866\ttotal: 1.49s\tremaining: 1.62s\n",
      "479:\tlearn: 0.3404465\ttotal: 1.49s\tremaining: 1.62s\n",
      "480:\tlearn: 0.3402412\ttotal: 1.5s\tremaining: 1.61s\n",
      "481:\tlearn: 0.3400844\ttotal: 1.5s\tremaining: 1.61s\n",
      "482:\tlearn: 0.3400109\ttotal: 1.5s\tremaining: 1.61s\n",
      "483:\tlearn: 0.3398928\ttotal: 1.5s\tremaining: 1.6s\n",
      "484:\tlearn: 0.3397584\ttotal: 1.51s\tremaining: 1.6s\n",
      "485:\tlearn: 0.3396103\ttotal: 1.51s\tremaining: 1.6s\n",
      "486:\tlearn: 0.3395162\ttotal: 1.51s\tremaining: 1.59s\n",
      "487:\tlearn: 0.3393505\ttotal: 1.51s\tremaining: 1.59s\n",
      "488:\tlearn: 0.3391895\ttotal: 1.52s\tremaining: 1.58s\n",
      "489:\tlearn: 0.3390293\ttotal: 1.52s\tremaining: 1.58s\n",
      "490:\tlearn: 0.3389236\ttotal: 1.52s\tremaining: 1.58s\n",
      "491:\tlearn: 0.3388381\ttotal: 1.52s\tremaining: 1.57s\n",
      "492:\tlearn: 0.3386672\ttotal: 1.53s\tremaining: 1.57s\n",
      "493:\tlearn: 0.3385569\ttotal: 1.53s\tremaining: 1.57s\n",
      "494:\tlearn: 0.3384494\ttotal: 1.53s\tremaining: 1.56s\n",
      "495:\tlearn: 0.3383514\ttotal: 1.54s\tremaining: 1.56s\n",
      "496:\tlearn: 0.3381969\ttotal: 1.54s\tremaining: 1.56s\n",
      "497:\tlearn: 0.3381010\ttotal: 1.54s\tremaining: 1.55s\n",
      "498:\tlearn: 0.3379349\ttotal: 1.54s\tremaining: 1.55s\n",
      "499:\tlearn: 0.3377964\ttotal: 1.55s\tremaining: 1.55s\n",
      "500:\tlearn: 0.3376770\ttotal: 1.55s\tremaining: 1.54s\n",
      "501:\tlearn: 0.3375281\ttotal: 1.55s\tremaining: 1.54s\n",
      "502:\tlearn: 0.3373995\ttotal: 1.56s\tremaining: 1.54s\n",
      "503:\tlearn: 0.3372578\ttotal: 1.56s\tremaining: 1.53s\n",
      "504:\tlearn: 0.3371463\ttotal: 1.56s\tremaining: 1.53s\n",
      "505:\tlearn: 0.3370189\ttotal: 1.56s\tremaining: 1.53s\n",
      "506:\tlearn: 0.3369474\ttotal: 1.57s\tremaining: 1.52s\n",
      "507:\tlearn: 0.3368576\ttotal: 1.57s\tremaining: 1.52s\n",
      "508:\tlearn: 0.3367598\ttotal: 1.57s\tremaining: 1.52s\n",
      "509:\tlearn: 0.3366477\ttotal: 1.57s\tremaining: 1.51s\n",
      "510:\tlearn: 0.3365600\ttotal: 1.58s\tremaining: 1.51s\n",
      "511:\tlearn: 0.3363871\ttotal: 1.58s\tremaining: 1.51s\n",
      "512:\tlearn: 0.3363181\ttotal: 1.58s\tremaining: 1.5s\n",
      "513:\tlearn: 0.3362163\ttotal: 1.59s\tremaining: 1.5s\n",
      "514:\tlearn: 0.3360968\ttotal: 1.59s\tremaining: 1.5s\n",
      "515:\tlearn: 0.3359743\ttotal: 1.59s\tremaining: 1.49s\n",
      "516:\tlearn: 0.3358642\ttotal: 1.59s\tremaining: 1.49s\n",
      "517:\tlearn: 0.3357828\ttotal: 1.6s\tremaining: 1.49s\n",
      "518:\tlearn: 0.3356685\ttotal: 1.6s\tremaining: 1.48s\n",
      "519:\tlearn: 0.3355509\ttotal: 1.6s\tremaining: 1.48s\n",
      "520:\tlearn: 0.3354709\ttotal: 1.6s\tremaining: 1.48s\n",
      "521:\tlearn: 0.3352935\ttotal: 1.61s\tremaining: 1.47s\n",
      "522:\tlearn: 0.3351966\ttotal: 1.61s\tremaining: 1.47s\n",
      "523:\tlearn: 0.3350755\ttotal: 1.61s\tremaining: 1.47s\n",
      "524:\tlearn: 0.3349604\ttotal: 1.62s\tremaining: 1.46s\n",
      "525:\tlearn: 0.3348264\ttotal: 1.62s\tremaining: 1.46s\n",
      "526:\tlearn: 0.3347033\ttotal: 1.62s\tremaining: 1.46s\n",
      "527:\tlearn: 0.3346002\ttotal: 1.62s\tremaining: 1.45s\n",
      "528:\tlearn: 0.3344496\ttotal: 1.63s\tremaining: 1.45s\n",
      "529:\tlearn: 0.3343188\ttotal: 1.63s\tremaining: 1.45s\n",
      "530:\tlearn: 0.3341997\ttotal: 1.63s\tremaining: 1.44s\n",
      "531:\tlearn: 0.3341083\ttotal: 1.64s\tremaining: 1.44s\n",
      "532:\tlearn: 0.3339330\ttotal: 1.64s\tremaining: 1.43s\n",
      "533:\tlearn: 0.3338346\ttotal: 1.64s\tremaining: 1.43s\n",
      "534:\tlearn: 0.3337356\ttotal: 1.64s\tremaining: 1.43s\n",
      "535:\tlearn: 0.3336467\ttotal: 1.65s\tremaining: 1.42s\n",
      "536:\tlearn: 0.3335677\ttotal: 1.65s\tremaining: 1.42s\n",
      "537:\tlearn: 0.3334820\ttotal: 1.65s\tremaining: 1.42s\n",
      "538:\tlearn: 0.3333522\ttotal: 1.65s\tremaining: 1.41s\n",
      "539:\tlearn: 0.3332268\ttotal: 1.66s\tremaining: 1.41s\n",
      "540:\tlearn: 0.3330990\ttotal: 1.66s\tremaining: 1.41s\n",
      "541:\tlearn: 0.3330330\ttotal: 1.66s\tremaining: 1.4s\n",
      "542:\tlearn: 0.3329156\ttotal: 1.66s\tremaining: 1.4s\n",
      "543:\tlearn: 0.3328766\ttotal: 1.67s\tremaining: 1.4s\n",
      "544:\tlearn: 0.3327814\ttotal: 1.67s\tremaining: 1.39s\n",
      "545:\tlearn: 0.3326374\ttotal: 1.67s\tremaining: 1.39s\n",
      "546:\tlearn: 0.3325687\ttotal: 1.67s\tremaining: 1.39s\n",
      "547:\tlearn: 0.3324582\ttotal: 1.68s\tremaining: 1.38s\n",
      "548:\tlearn: 0.3323599\ttotal: 1.68s\tremaining: 1.38s\n",
      "549:\tlearn: 0.3322879\ttotal: 1.68s\tremaining: 1.38s\n",
      "550:\tlearn: 0.3321660\ttotal: 1.69s\tremaining: 1.37s\n",
      "551:\tlearn: 0.3320934\ttotal: 1.69s\tremaining: 1.37s\n",
      "552:\tlearn: 0.3319854\ttotal: 1.69s\tremaining: 1.37s\n",
      "553:\tlearn: 0.3318871\ttotal: 1.69s\tremaining: 1.36s\n",
      "554:\tlearn: 0.3318026\ttotal: 1.7s\tremaining: 1.36s\n",
      "555:\tlearn: 0.3316922\ttotal: 1.7s\tremaining: 1.36s\n",
      "556:\tlearn: 0.3316261\ttotal: 1.7s\tremaining: 1.35s\n",
      "557:\tlearn: 0.3314628\ttotal: 1.7s\tremaining: 1.35s\n",
      "558:\tlearn: 0.3313798\ttotal: 1.71s\tremaining: 1.35s\n",
      "559:\tlearn: 0.3312490\ttotal: 1.71s\tremaining: 1.34s\n",
      "560:\tlearn: 0.3311597\ttotal: 1.71s\tremaining: 1.34s\n",
      "561:\tlearn: 0.3309961\ttotal: 1.71s\tremaining: 1.34s\n",
      "562:\tlearn: 0.3308761\ttotal: 1.72s\tremaining: 1.33s\n",
      "563:\tlearn: 0.3308294\ttotal: 1.72s\tremaining: 1.33s\n",
      "564:\tlearn: 0.3307137\ttotal: 1.72s\tremaining: 1.33s\n",
      "565:\tlearn: 0.3305822\ttotal: 1.73s\tremaining: 1.32s\n",
      "566:\tlearn: 0.3304297\ttotal: 1.73s\tremaining: 1.32s\n",
      "567:\tlearn: 0.3303050\ttotal: 1.73s\tremaining: 1.32s\n",
      "568:\tlearn: 0.3301552\ttotal: 1.74s\tremaining: 1.31s\n",
      "569:\tlearn: 0.3300214\ttotal: 1.74s\tremaining: 1.31s\n",
      "570:\tlearn: 0.3298991\ttotal: 1.74s\tremaining: 1.31s\n",
      "571:\tlearn: 0.3297686\ttotal: 1.74s\tremaining: 1.3s\n",
      "572:\tlearn: 0.3296584\ttotal: 1.75s\tremaining: 1.3s\n",
      "573:\tlearn: 0.3295777\ttotal: 1.75s\tremaining: 1.3s\n",
      "574:\tlearn: 0.3294233\ttotal: 1.75s\tremaining: 1.3s\n",
      "575:\tlearn: 0.3293396\ttotal: 1.76s\tremaining: 1.29s\n",
      "576:\tlearn: 0.3292646\ttotal: 1.76s\tremaining: 1.29s\n",
      "577:\tlearn: 0.3291827\ttotal: 1.76s\tremaining: 1.29s\n",
      "578:\tlearn: 0.3290290\ttotal: 1.76s\tremaining: 1.28s\n",
      "579:\tlearn: 0.3289141\ttotal: 1.77s\tremaining: 1.28s\n",
      "580:\tlearn: 0.3288662\ttotal: 1.77s\tremaining: 1.28s\n",
      "581:\tlearn: 0.3287311\ttotal: 1.78s\tremaining: 1.27s\n",
      "582:\tlearn: 0.3286604\ttotal: 1.78s\tremaining: 1.27s\n",
      "583:\tlearn: 0.3285473\ttotal: 1.78s\tremaining: 1.27s\n",
      "584:\tlearn: 0.3284022\ttotal: 1.78s\tremaining: 1.27s\n",
      "585:\tlearn: 0.3282728\ttotal: 1.79s\tremaining: 1.26s\n",
      "586:\tlearn: 0.3281465\ttotal: 1.79s\tremaining: 1.26s\n",
      "587:\tlearn: 0.3280484\ttotal: 1.79s\tremaining: 1.26s\n",
      "588:\tlearn: 0.3279502\ttotal: 1.8s\tremaining: 1.25s\n",
      "589:\tlearn: 0.3278295\ttotal: 1.8s\tremaining: 1.25s\n",
      "590:\tlearn: 0.3277633\ttotal: 1.8s\tremaining: 1.25s\n",
      "591:\tlearn: 0.3276749\ttotal: 1.8s\tremaining: 1.24s\n",
      "592:\tlearn: 0.3275709\ttotal: 1.81s\tremaining: 1.24s\n",
      "593:\tlearn: 0.3275056\ttotal: 1.81s\tremaining: 1.24s\n",
      "594:\tlearn: 0.3273813\ttotal: 1.81s\tremaining: 1.23s\n",
      "595:\tlearn: 0.3273163\ttotal: 1.82s\tremaining: 1.23s\n",
      "596:\tlearn: 0.3272366\ttotal: 1.82s\tremaining: 1.23s\n",
      "597:\tlearn: 0.3271096\ttotal: 1.82s\tremaining: 1.23s\n",
      "598:\tlearn: 0.3270310\ttotal: 1.83s\tremaining: 1.22s\n",
      "599:\tlearn: 0.3269117\ttotal: 1.83s\tremaining: 1.22s\n",
      "600:\tlearn: 0.3267699\ttotal: 1.83s\tremaining: 1.22s\n",
      "601:\tlearn: 0.3266409\ttotal: 1.84s\tremaining: 1.21s\n",
      "602:\tlearn: 0.3265162\ttotal: 1.84s\tremaining: 1.21s\n",
      "603:\tlearn: 0.3264162\ttotal: 1.84s\tremaining: 1.21s\n",
      "604:\tlearn: 0.3263142\ttotal: 1.84s\tremaining: 1.2s\n",
      "605:\tlearn: 0.3261634\ttotal: 1.85s\tremaining: 1.2s\n",
      "606:\tlearn: 0.3260643\ttotal: 1.85s\tremaining: 1.2s\n",
      "607:\tlearn: 0.3259452\ttotal: 1.85s\tremaining: 1.19s\n",
      "608:\tlearn: 0.3257987\ttotal: 1.86s\tremaining: 1.19s\n",
      "609:\tlearn: 0.3256685\ttotal: 1.86s\tremaining: 1.19s\n",
      "610:\tlearn: 0.3255457\ttotal: 1.86s\tremaining: 1.19s\n",
      "611:\tlearn: 0.3254400\ttotal: 1.86s\tremaining: 1.18s\n",
      "612:\tlearn: 0.3253955\ttotal: 1.87s\tremaining: 1.18s\n",
      "613:\tlearn: 0.3252225\ttotal: 1.87s\tremaining: 1.18s\n",
      "614:\tlearn: 0.3251245\ttotal: 1.87s\tremaining: 1.17s\n",
      "615:\tlearn: 0.3250181\ttotal: 1.87s\tremaining: 1.17s\n",
      "616:\tlearn: 0.3248379\ttotal: 1.88s\tremaining: 1.17s\n",
      "617:\tlearn: 0.3246919\ttotal: 1.88s\tremaining: 1.16s\n",
      "618:\tlearn: 0.3246318\ttotal: 1.88s\tremaining: 1.16s\n",
      "619:\tlearn: 0.3245216\ttotal: 1.89s\tremaining: 1.16s\n",
      "620:\tlearn: 0.3243967\ttotal: 1.89s\tremaining: 1.15s\n",
      "621:\tlearn: 0.3243345\ttotal: 1.89s\tremaining: 1.15s\n",
      "622:\tlearn: 0.3242236\ttotal: 1.89s\tremaining: 1.15s\n",
      "623:\tlearn: 0.3241225\ttotal: 1.9s\tremaining: 1.14s\n",
      "624:\tlearn: 0.3240754\ttotal: 1.9s\tremaining: 1.14s\n",
      "625:\tlearn: 0.3239834\ttotal: 1.9s\tremaining: 1.14s\n",
      "626:\tlearn: 0.3238509\ttotal: 1.91s\tremaining: 1.13s\n",
      "627:\tlearn: 0.3237548\ttotal: 1.91s\tremaining: 1.13s\n",
      "628:\tlearn: 0.3235918\ttotal: 1.91s\tremaining: 1.13s\n",
      "629:\tlearn: 0.3234584\ttotal: 1.91s\tremaining: 1.12s\n",
      "630:\tlearn: 0.3233856\ttotal: 1.92s\tremaining: 1.12s\n",
      "631:\tlearn: 0.3232383\ttotal: 1.92s\tremaining: 1.12s\n",
      "632:\tlearn: 0.3231815\ttotal: 1.92s\tremaining: 1.11s\n",
      "633:\tlearn: 0.3230741\ttotal: 1.92s\tremaining: 1.11s\n",
      "634:\tlearn: 0.3230025\ttotal: 1.93s\tremaining: 1.11s\n",
      "635:\tlearn: 0.3228889\ttotal: 1.93s\tremaining: 1.1s\n",
      "636:\tlearn: 0.3227678\ttotal: 1.93s\tremaining: 1.1s\n",
      "637:\tlearn: 0.3226630\ttotal: 1.93s\tremaining: 1.1s\n",
      "638:\tlearn: 0.3225185\ttotal: 1.94s\tremaining: 1.09s\n",
      "639:\tlearn: 0.3223979\ttotal: 1.94s\tremaining: 1.09s\n",
      "640:\tlearn: 0.3223393\ttotal: 1.94s\tremaining: 1.09s\n",
      "641:\tlearn: 0.3221614\ttotal: 1.95s\tremaining: 1.08s\n",
      "642:\tlearn: 0.3220340\ttotal: 1.95s\tremaining: 1.08s\n",
      "643:\tlearn: 0.3219416\ttotal: 1.95s\tremaining: 1.08s\n",
      "644:\tlearn: 0.3218528\ttotal: 1.95s\tremaining: 1.07s\n",
      "645:\tlearn: 0.3217598\ttotal: 1.96s\tremaining: 1.07s\n",
      "646:\tlearn: 0.3216428\ttotal: 1.96s\tremaining: 1.07s\n",
      "647:\tlearn: 0.3215396\ttotal: 1.96s\tremaining: 1.06s\n",
      "648:\tlearn: 0.3214193\ttotal: 1.97s\tremaining: 1.06s\n",
      "649:\tlearn: 0.3212466\ttotal: 1.97s\tremaining: 1.06s\n",
      "650:\tlearn: 0.3211803\ttotal: 1.97s\tremaining: 1.06s\n",
      "651:\tlearn: 0.3210637\ttotal: 1.97s\tremaining: 1.05s\n",
      "652:\tlearn: 0.3210035\ttotal: 1.98s\tremaining: 1.05s\n",
      "653:\tlearn: 0.3209258\ttotal: 1.98s\tremaining: 1.05s\n",
      "654:\tlearn: 0.3208246\ttotal: 1.98s\tremaining: 1.04s\n",
      "655:\tlearn: 0.3206860\ttotal: 1.98s\tremaining: 1.04s\n",
      "656:\tlearn: 0.3205545\ttotal: 1.99s\tremaining: 1.04s\n",
      "657:\tlearn: 0.3204027\ttotal: 1.99s\tremaining: 1.03s\n",
      "658:\tlearn: 0.3203091\ttotal: 1.99s\tremaining: 1.03s\n",
      "659:\tlearn: 0.3202371\ttotal: 2s\tremaining: 1.03s\n",
      "660:\tlearn: 0.3201257\ttotal: 2s\tremaining: 1.02s\n",
      "661:\tlearn: 0.3199824\ttotal: 2s\tremaining: 1.02s\n",
      "662:\tlearn: 0.3199241\ttotal: 2s\tremaining: 1.02s\n",
      "663:\tlearn: 0.3198043\ttotal: 2.01s\tremaining: 1.01s\n",
      "664:\tlearn: 0.3196842\ttotal: 2.01s\tremaining: 1.01s\n",
      "665:\tlearn: 0.3195675\ttotal: 2.01s\tremaining: 1.01s\n",
      "666:\tlearn: 0.3194753\ttotal: 2.01s\tremaining: 1s\n",
      "667:\tlearn: 0.3193804\ttotal: 2.02s\tremaining: 1s\n",
      "668:\tlearn: 0.3192865\ttotal: 2.02s\tremaining: 999ms\n",
      "669:\tlearn: 0.3191637\ttotal: 2.02s\tremaining: 996ms\n",
      "670:\tlearn: 0.3190379\ttotal: 2.02s\tremaining: 993ms\n",
      "671:\tlearn: 0.3189474\ttotal: 2.03s\tremaining: 989ms\n",
      "672:\tlearn: 0.3188780\ttotal: 2.03s\tremaining: 986ms\n",
      "673:\tlearn: 0.3187806\ttotal: 2.03s\tremaining: 983ms\n",
      "674:\tlearn: 0.3186309\ttotal: 2.04s\tremaining: 980ms\n",
      "675:\tlearn: 0.3185449\ttotal: 2.04s\tremaining: 977ms\n",
      "676:\tlearn: 0.3183807\ttotal: 2.04s\tremaining: 974ms\n",
      "677:\tlearn: 0.3182177\ttotal: 2.04s\tremaining: 970ms\n",
      "678:\tlearn: 0.3181103\ttotal: 2.05s\tremaining: 967ms\n",
      "679:\tlearn: 0.3180350\ttotal: 2.05s\tremaining: 964ms\n",
      "680:\tlearn: 0.3179401\ttotal: 2.05s\tremaining: 961ms\n",
      "681:\tlearn: 0.3178312\ttotal: 2.05s\tremaining: 958ms\n",
      "682:\tlearn: 0.3177636\ttotal: 2.06s\tremaining: 955ms\n",
      "683:\tlearn: 0.3176913\ttotal: 2.06s\tremaining: 952ms\n",
      "684:\tlearn: 0.3175547\ttotal: 2.06s\tremaining: 948ms\n",
      "685:\tlearn: 0.3174547\ttotal: 2.06s\tremaining: 945ms\n",
      "686:\tlearn: 0.3174166\ttotal: 2.07s\tremaining: 942ms\n",
      "687:\tlearn: 0.3173499\ttotal: 2.07s\tremaining: 939ms\n",
      "688:\tlearn: 0.3172433\ttotal: 2.07s\tremaining: 936ms\n",
      "689:\tlearn: 0.3171516\ttotal: 2.08s\tremaining: 933ms\n",
      "690:\tlearn: 0.3170497\ttotal: 2.08s\tremaining: 929ms\n",
      "691:\tlearn: 0.3169472\ttotal: 2.08s\tremaining: 926ms\n",
      "692:\tlearn: 0.3168803\ttotal: 2.08s\tremaining: 923ms\n",
      "693:\tlearn: 0.3167243\ttotal: 2.09s\tremaining: 920ms\n",
      "694:\tlearn: 0.3165685\ttotal: 2.09s\tremaining: 917ms\n",
      "695:\tlearn: 0.3164385\ttotal: 2.09s\tremaining: 914ms\n",
      "696:\tlearn: 0.3163832\ttotal: 2.09s\tremaining: 910ms\n",
      "697:\tlearn: 0.3162285\ttotal: 2.1s\tremaining: 907ms\n",
      "698:\tlearn: 0.3161390\ttotal: 2.1s\tremaining: 904ms\n",
      "699:\tlearn: 0.3160032\ttotal: 2.1s\tremaining: 901ms\n",
      "700:\tlearn: 0.3159373\ttotal: 2.1s\tremaining: 898ms\n",
      "701:\tlearn: 0.3158443\ttotal: 2.11s\tremaining: 895ms\n",
      "702:\tlearn: 0.3157740\ttotal: 2.11s\tremaining: 892ms\n",
      "703:\tlearn: 0.3157121\ttotal: 2.11s\tremaining: 889ms\n",
      "704:\tlearn: 0.3155938\ttotal: 2.12s\tremaining: 886ms\n",
      "705:\tlearn: 0.3154785\ttotal: 2.12s\tremaining: 883ms\n",
      "706:\tlearn: 0.3153730\ttotal: 2.12s\tremaining: 880ms\n",
      "707:\tlearn: 0.3153177\ttotal: 2.13s\tremaining: 877ms\n",
      "708:\tlearn: 0.3152200\ttotal: 2.13s\tremaining: 873ms\n",
      "709:\tlearn: 0.3151059\ttotal: 2.13s\tremaining: 870ms\n",
      "710:\tlearn: 0.3149773\ttotal: 2.13s\tremaining: 867ms\n",
      "711:\tlearn: 0.3149121\ttotal: 2.14s\tremaining: 864ms\n",
      "712:\tlearn: 0.3148104\ttotal: 2.14s\tremaining: 861ms\n",
      "713:\tlearn: 0.3146871\ttotal: 2.14s\tremaining: 858ms\n",
      "714:\tlearn: 0.3145797\ttotal: 2.15s\tremaining: 855ms\n",
      "715:\tlearn: 0.3145215\ttotal: 2.15s\tremaining: 852ms\n",
      "716:\tlearn: 0.3144198\ttotal: 2.15s\tremaining: 849ms\n",
      "717:\tlearn: 0.3142985\ttotal: 2.15s\tremaining: 846ms\n",
      "718:\tlearn: 0.3142220\ttotal: 2.16s\tremaining: 843ms\n",
      "719:\tlearn: 0.3141605\ttotal: 2.16s\tremaining: 840ms\n",
      "720:\tlearn: 0.3141005\ttotal: 2.16s\tremaining: 837ms\n",
      "721:\tlearn: 0.3140382\ttotal: 2.17s\tremaining: 834ms\n",
      "722:\tlearn: 0.3138792\ttotal: 2.17s\tremaining: 831ms\n",
      "723:\tlearn: 0.3138133\ttotal: 2.17s\tremaining: 828ms\n",
      "724:\tlearn: 0.3136927\ttotal: 2.17s\tremaining: 825ms\n",
      "725:\tlearn: 0.3136139\ttotal: 2.18s\tremaining: 822ms\n",
      "726:\tlearn: 0.3135303\ttotal: 2.18s\tremaining: 819ms\n",
      "727:\tlearn: 0.3134346\ttotal: 2.18s\tremaining: 816ms\n",
      "728:\tlearn: 0.3133065\ttotal: 2.19s\tremaining: 813ms\n",
      "729:\tlearn: 0.3132423\ttotal: 2.19s\tremaining: 810ms\n",
      "730:\tlearn: 0.3131437\ttotal: 2.19s\tremaining: 806ms\n",
      "731:\tlearn: 0.3130094\ttotal: 2.19s\tremaining: 803ms\n",
      "732:\tlearn: 0.3128883\ttotal: 2.2s\tremaining: 800ms\n",
      "733:\tlearn: 0.3127816\ttotal: 2.2s\tremaining: 797ms\n",
      "734:\tlearn: 0.3126451\ttotal: 2.2s\tremaining: 794ms\n",
      "735:\tlearn: 0.3124579\ttotal: 2.21s\tremaining: 791ms\n",
      "736:\tlearn: 0.3123648\ttotal: 2.21s\tremaining: 788ms\n",
      "737:\tlearn: 0.3122230\ttotal: 2.21s\tremaining: 785ms\n",
      "738:\tlearn: 0.3120891\ttotal: 2.21s\tremaining: 782ms\n",
      "739:\tlearn: 0.3120330\ttotal: 2.22s\tremaining: 779ms\n",
      "740:\tlearn: 0.3119658\ttotal: 2.22s\tremaining: 776ms\n",
      "741:\tlearn: 0.3118981\ttotal: 2.22s\tremaining: 773ms\n",
      "742:\tlearn: 0.3118332\ttotal: 2.23s\tremaining: 770ms\n",
      "743:\tlearn: 0.3117551\ttotal: 2.23s\tremaining: 767ms\n",
      "744:\tlearn: 0.3116631\ttotal: 2.23s\tremaining: 764ms\n",
      "745:\tlearn: 0.3115914\ttotal: 2.23s\tremaining: 761ms\n",
      "746:\tlearn: 0.3115151\ttotal: 2.24s\tremaining: 758ms\n",
      "747:\tlearn: 0.3114412\ttotal: 2.24s\tremaining: 755ms\n",
      "748:\tlearn: 0.3113033\ttotal: 2.24s\tremaining: 751ms\n",
      "749:\tlearn: 0.3112308\ttotal: 2.25s\tremaining: 748ms\n",
      "750:\tlearn: 0.3111538\ttotal: 2.25s\tremaining: 745ms\n",
      "751:\tlearn: 0.3110745\ttotal: 2.25s\tremaining: 742ms\n",
      "752:\tlearn: 0.3109736\ttotal: 2.25s\tremaining: 739ms\n",
      "753:\tlearn: 0.3108996\ttotal: 2.26s\tremaining: 736ms\n",
      "754:\tlearn: 0.3108071\ttotal: 2.26s\tremaining: 733ms\n",
      "755:\tlearn: 0.3107170\ttotal: 2.26s\tremaining: 730ms\n",
      "756:\tlearn: 0.3105499\ttotal: 2.26s\tremaining: 727ms\n",
      "757:\tlearn: 0.3104559\ttotal: 2.27s\tremaining: 724ms\n",
      "758:\tlearn: 0.3103516\ttotal: 2.27s\tremaining: 721ms\n",
      "759:\tlearn: 0.3102722\ttotal: 2.27s\tremaining: 718ms\n",
      "760:\tlearn: 0.3101802\ttotal: 2.27s\tremaining: 715ms\n",
      "761:\tlearn: 0.3100588\ttotal: 2.28s\tremaining: 711ms\n",
      "762:\tlearn: 0.3099779\ttotal: 2.28s\tremaining: 708ms\n",
      "763:\tlearn: 0.3099052\ttotal: 2.28s\tremaining: 705ms\n",
      "764:\tlearn: 0.3097869\ttotal: 2.29s\tremaining: 702ms\n",
      "765:\tlearn: 0.3097053\ttotal: 2.29s\tremaining: 699ms\n",
      "766:\tlearn: 0.3096297\ttotal: 2.29s\tremaining: 696ms\n",
      "767:\tlearn: 0.3095599\ttotal: 2.29s\tremaining: 693ms\n",
      "768:\tlearn: 0.3094650\ttotal: 2.3s\tremaining: 690ms\n",
      "769:\tlearn: 0.3093490\ttotal: 2.3s\tremaining: 687ms\n",
      "770:\tlearn: 0.3092821\ttotal: 2.3s\tremaining: 684ms\n",
      "771:\tlearn: 0.3091635\ttotal: 2.3s\tremaining: 681ms\n",
      "772:\tlearn: 0.3090925\ttotal: 2.31s\tremaining: 678ms\n",
      "773:\tlearn: 0.3090088\ttotal: 2.31s\tremaining: 675ms\n",
      "774:\tlearn: 0.3089237\ttotal: 2.31s\tremaining: 671ms\n",
      "775:\tlearn: 0.3087464\ttotal: 2.31s\tremaining: 668ms\n",
      "776:\tlearn: 0.3086483\ttotal: 2.32s\tremaining: 665ms\n",
      "777:\tlearn: 0.3085000\ttotal: 2.32s\tremaining: 662ms\n",
      "778:\tlearn: 0.3083897\ttotal: 2.32s\tremaining: 659ms\n",
      "779:\tlearn: 0.3083119\ttotal: 2.33s\tremaining: 656ms\n",
      "780:\tlearn: 0.3082246\ttotal: 2.33s\tremaining: 653ms\n",
      "781:\tlearn: 0.3081646\ttotal: 2.33s\tremaining: 650ms\n",
      "782:\tlearn: 0.3080907\ttotal: 2.33s\tremaining: 647ms\n",
      "783:\tlearn: 0.3080324\ttotal: 2.34s\tremaining: 644ms\n",
      "784:\tlearn: 0.3079566\ttotal: 2.34s\tremaining: 641ms\n",
      "785:\tlearn: 0.3079023\ttotal: 2.34s\tremaining: 638ms\n",
      "786:\tlearn: 0.3078033\ttotal: 2.35s\tremaining: 635ms\n",
      "787:\tlearn: 0.3077304\ttotal: 2.35s\tremaining: 632ms\n",
      "788:\tlearn: 0.3076349\ttotal: 2.35s\tremaining: 629ms\n",
      "789:\tlearn: 0.3075651\ttotal: 2.35s\tremaining: 626ms\n",
      "790:\tlearn: 0.3074991\ttotal: 2.36s\tremaining: 623ms\n",
      "791:\tlearn: 0.3074041\ttotal: 2.36s\tremaining: 620ms\n",
      "792:\tlearn: 0.3073465\ttotal: 2.36s\tremaining: 617ms\n",
      "793:\tlearn: 0.3072466\ttotal: 2.36s\tremaining: 613ms\n",
      "794:\tlearn: 0.3071431\ttotal: 2.37s\tremaining: 610ms\n",
      "795:\tlearn: 0.3070591\ttotal: 2.37s\tremaining: 607ms\n",
      "796:\tlearn: 0.3069106\ttotal: 2.37s\tremaining: 604ms\n",
      "797:\tlearn: 0.3068336\ttotal: 2.38s\tremaining: 601ms\n",
      "798:\tlearn: 0.3066801\ttotal: 2.38s\tremaining: 598ms\n",
      "799:\tlearn: 0.3066173\ttotal: 2.38s\tremaining: 595ms\n",
      "800:\tlearn: 0.3065066\ttotal: 2.38s\tremaining: 592ms\n",
      "801:\tlearn: 0.3063871\ttotal: 2.39s\tremaining: 589ms\n",
      "802:\tlearn: 0.3062691\ttotal: 2.39s\tremaining: 586ms\n",
      "803:\tlearn: 0.3061969\ttotal: 2.39s\tremaining: 583ms\n",
      "804:\tlearn: 0.3061145\ttotal: 2.39s\tremaining: 580ms\n",
      "805:\tlearn: 0.3060484\ttotal: 2.4s\tremaining: 577ms\n",
      "806:\tlearn: 0.3059137\ttotal: 2.4s\tremaining: 574ms\n",
      "807:\tlearn: 0.3058298\ttotal: 2.4s\tremaining: 571ms\n",
      "808:\tlearn: 0.3056758\ttotal: 2.4s\tremaining: 568ms\n",
      "809:\tlearn: 0.3055783\ttotal: 2.41s\tremaining: 565ms\n",
      "810:\tlearn: 0.3054998\ttotal: 2.41s\tremaining: 562ms\n",
      "811:\tlearn: 0.3053576\ttotal: 2.41s\tremaining: 559ms\n",
      "812:\tlearn: 0.3052102\ttotal: 2.42s\tremaining: 556ms\n",
      "813:\tlearn: 0.3051452\ttotal: 2.42s\tremaining: 553ms\n",
      "814:\tlearn: 0.3050459\ttotal: 2.42s\tremaining: 550ms\n",
      "815:\tlearn: 0.3049427\ttotal: 2.42s\tremaining: 547ms\n",
      "816:\tlearn: 0.3049195\ttotal: 2.43s\tremaining: 544ms\n",
      "817:\tlearn: 0.3047805\ttotal: 2.43s\tremaining: 541ms\n",
      "818:\tlearn: 0.3047286\ttotal: 2.43s\tremaining: 537ms\n",
      "819:\tlearn: 0.3046326\ttotal: 2.43s\tremaining: 534ms\n",
      "820:\tlearn: 0.3045974\ttotal: 2.44s\tremaining: 531ms\n",
      "821:\tlearn: 0.3044105\ttotal: 2.44s\tremaining: 528ms\n",
      "822:\tlearn: 0.3043467\ttotal: 2.44s\tremaining: 525ms\n",
      "823:\tlearn: 0.3042613\ttotal: 2.44s\tremaining: 522ms\n",
      "824:\tlearn: 0.3041601\ttotal: 2.45s\tremaining: 519ms\n",
      "825:\tlearn: 0.3040733\ttotal: 2.45s\tremaining: 516ms\n",
      "826:\tlearn: 0.3039970\ttotal: 2.45s\tremaining: 513ms\n",
      "827:\tlearn: 0.3039352\ttotal: 2.46s\tremaining: 510ms\n",
      "828:\tlearn: 0.3038323\ttotal: 2.46s\tremaining: 507ms\n",
      "829:\tlearn: 0.3036916\ttotal: 2.46s\tremaining: 504ms\n",
      "830:\tlearn: 0.3035649\ttotal: 2.46s\tremaining: 501ms\n",
      "831:\tlearn: 0.3034420\ttotal: 2.47s\tremaining: 498ms\n",
      "832:\tlearn: 0.3033454\ttotal: 2.47s\tremaining: 495ms\n",
      "833:\tlearn: 0.3032692\ttotal: 2.47s\tremaining: 492ms\n",
      "834:\tlearn: 0.3031481\ttotal: 2.47s\tremaining: 489ms\n",
      "835:\tlearn: 0.3030447\ttotal: 2.48s\tremaining: 486ms\n",
      "836:\tlearn: 0.3029203\ttotal: 2.48s\tremaining: 483ms\n",
      "837:\tlearn: 0.3028302\ttotal: 2.48s\tremaining: 480ms\n",
      "838:\tlearn: 0.3027775\ttotal: 2.48s\tremaining: 477ms\n",
      "839:\tlearn: 0.3026878\ttotal: 2.49s\tremaining: 474ms\n",
      "840:\tlearn: 0.3025785\ttotal: 2.49s\tremaining: 471ms\n",
      "841:\tlearn: 0.3024299\ttotal: 2.49s\tremaining: 468ms\n",
      "842:\tlearn: 0.3023355\ttotal: 2.5s\tremaining: 465ms\n",
      "843:\tlearn: 0.3022308\ttotal: 2.5s\tremaining: 462ms\n",
      "844:\tlearn: 0.3021652\ttotal: 2.5s\tremaining: 459ms\n",
      "845:\tlearn: 0.3020675\ttotal: 2.5s\tremaining: 456ms\n",
      "846:\tlearn: 0.3019735\ttotal: 2.51s\tremaining: 453ms\n",
      "847:\tlearn: 0.3018973\ttotal: 2.51s\tremaining: 450ms\n",
      "848:\tlearn: 0.3018466\ttotal: 2.51s\tremaining: 447ms\n",
      "849:\tlearn: 0.3017795\ttotal: 2.51s\tremaining: 444ms\n",
      "850:\tlearn: 0.3016798\ttotal: 2.52s\tremaining: 441ms\n",
      "851:\tlearn: 0.3016168\ttotal: 2.52s\tremaining: 438ms\n",
      "852:\tlearn: 0.3015578\ttotal: 2.52s\tremaining: 435ms\n",
      "853:\tlearn: 0.3014558\ttotal: 2.52s\tremaining: 432ms\n",
      "854:\tlearn: 0.3013723\ttotal: 2.53s\tremaining: 429ms\n",
      "855:\tlearn: 0.3013091\ttotal: 2.53s\tremaining: 426ms\n",
      "856:\tlearn: 0.3012079\ttotal: 2.53s\tremaining: 423ms\n",
      "857:\tlearn: 0.3011451\ttotal: 2.54s\tremaining: 420ms\n",
      "858:\tlearn: 0.3009767\ttotal: 2.54s\tremaining: 417ms\n",
      "859:\tlearn: 0.3008614\ttotal: 2.54s\tremaining: 414ms\n",
      "860:\tlearn: 0.3007821\ttotal: 2.54s\tremaining: 411ms\n",
      "861:\tlearn: 0.3007353\ttotal: 2.55s\tremaining: 408ms\n",
      "862:\tlearn: 0.3006290\ttotal: 2.55s\tremaining: 405ms\n",
      "863:\tlearn: 0.3006157\ttotal: 2.55s\tremaining: 402ms\n",
      "864:\tlearn: 0.3005211\ttotal: 2.56s\tremaining: 399ms\n",
      "865:\tlearn: 0.3004415\ttotal: 2.56s\tremaining: 396ms\n",
      "866:\tlearn: 0.3003512\ttotal: 2.56s\tremaining: 393ms\n",
      "867:\tlearn: 0.3002462\ttotal: 2.56s\tremaining: 390ms\n",
      "868:\tlearn: 0.3001580\ttotal: 2.57s\tremaining: 387ms\n",
      "869:\tlearn: 0.3000106\ttotal: 2.57s\tremaining: 384ms\n",
      "870:\tlearn: 0.2999209\ttotal: 2.57s\tremaining: 381ms\n",
      "871:\tlearn: 0.2998283\ttotal: 2.57s\tremaining: 378ms\n",
      "872:\tlearn: 0.2997422\ttotal: 2.58s\tremaining: 375ms\n",
      "873:\tlearn: 0.2996722\ttotal: 2.58s\tremaining: 372ms\n",
      "874:\tlearn: 0.2996541\ttotal: 2.58s\tremaining: 369ms\n",
      "875:\tlearn: 0.2995864\ttotal: 2.58s\tremaining: 366ms\n",
      "876:\tlearn: 0.2994727\ttotal: 2.59s\tremaining: 363ms\n",
      "877:\tlearn: 0.2994016\ttotal: 2.59s\tremaining: 360ms\n",
      "878:\tlearn: 0.2993187\ttotal: 2.59s\tremaining: 357ms\n",
      "879:\tlearn: 0.2992022\ttotal: 2.6s\tremaining: 354ms\n",
      "880:\tlearn: 0.2991166\ttotal: 2.6s\tremaining: 351ms\n",
      "881:\tlearn: 0.2990662\ttotal: 2.6s\tremaining: 348ms\n",
      "882:\tlearn: 0.2989833\ttotal: 2.6s\tremaining: 345ms\n",
      "883:\tlearn: 0.2989042\ttotal: 2.61s\tremaining: 342ms\n",
      "884:\tlearn: 0.2988040\ttotal: 2.61s\tremaining: 339ms\n",
      "885:\tlearn: 0.2987572\ttotal: 2.61s\tremaining: 336ms\n",
      "886:\tlearn: 0.2987093\ttotal: 2.62s\tremaining: 333ms\n",
      "887:\tlearn: 0.2986611\ttotal: 2.62s\tremaining: 330ms\n",
      "888:\tlearn: 0.2985622\ttotal: 2.62s\tremaining: 327ms\n",
      "889:\tlearn: 0.2984943\ttotal: 2.62s\tremaining: 324ms\n",
      "890:\tlearn: 0.2984009\ttotal: 2.63s\tremaining: 321ms\n",
      "891:\tlearn: 0.2983188\ttotal: 2.63s\tremaining: 318ms\n",
      "892:\tlearn: 0.2982534\ttotal: 2.63s\tremaining: 315ms\n",
      "893:\tlearn: 0.2981622\ttotal: 2.63s\tremaining: 312ms\n",
      "894:\tlearn: 0.2981074\ttotal: 2.64s\tremaining: 309ms\n",
      "895:\tlearn: 0.2980316\ttotal: 2.64s\tremaining: 306ms\n",
      "896:\tlearn: 0.2978723\ttotal: 2.64s\tremaining: 304ms\n",
      "897:\tlearn: 0.2978258\ttotal: 2.65s\tremaining: 301ms\n",
      "898:\tlearn: 0.2977271\ttotal: 2.65s\tremaining: 298ms\n",
      "899:\tlearn: 0.2976186\ttotal: 2.65s\tremaining: 295ms\n",
      "900:\tlearn: 0.2975150\ttotal: 2.65s\tremaining: 292ms\n",
      "901:\tlearn: 0.2973985\ttotal: 2.66s\tremaining: 289ms\n",
      "902:\tlearn: 0.2973116\ttotal: 2.66s\tremaining: 286ms\n",
      "903:\tlearn: 0.2972330\ttotal: 2.66s\tremaining: 283ms\n",
      "904:\tlearn: 0.2971331\ttotal: 2.66s\tremaining: 280ms\n",
      "905:\tlearn: 0.2969885\ttotal: 2.67s\tremaining: 277ms\n",
      "906:\tlearn: 0.2969091\ttotal: 2.67s\tremaining: 274ms\n",
      "907:\tlearn: 0.2968025\ttotal: 2.67s\tremaining: 271ms\n",
      "908:\tlearn: 0.2966851\ttotal: 2.67s\tremaining: 268ms\n",
      "909:\tlearn: 0.2965976\ttotal: 2.68s\tremaining: 265ms\n",
      "910:\tlearn: 0.2964982\ttotal: 2.68s\tremaining: 262ms\n",
      "911:\tlearn: 0.2964502\ttotal: 2.68s\tremaining: 259ms\n",
      "912:\tlearn: 0.2963743\ttotal: 2.69s\tremaining: 256ms\n",
      "913:\tlearn: 0.2962985\ttotal: 2.69s\tremaining: 253ms\n",
      "914:\tlearn: 0.2962252\ttotal: 2.69s\tremaining: 250ms\n",
      "915:\tlearn: 0.2961313\ttotal: 2.69s\tremaining: 247ms\n",
      "916:\tlearn: 0.2960760\ttotal: 2.7s\tremaining: 244ms\n",
      "917:\tlearn: 0.2960004\ttotal: 2.7s\tremaining: 241ms\n",
      "918:\tlearn: 0.2958688\ttotal: 2.7s\tremaining: 238ms\n",
      "919:\tlearn: 0.2958056\ttotal: 2.7s\tremaining: 235ms\n",
      "920:\tlearn: 0.2957077\ttotal: 2.71s\tremaining: 232ms\n",
      "921:\tlearn: 0.2955917\ttotal: 2.71s\tremaining: 229ms\n",
      "922:\tlearn: 0.2955768\ttotal: 2.71s\tremaining: 226ms\n",
      "923:\tlearn: 0.2955236\ttotal: 2.71s\tremaining: 223ms\n",
      "924:\tlearn: 0.2954443\ttotal: 2.72s\tremaining: 220ms\n",
      "925:\tlearn: 0.2953547\ttotal: 2.72s\tremaining: 217ms\n",
      "926:\tlearn: 0.2953157\ttotal: 2.72s\tremaining: 214ms\n",
      "927:\tlearn: 0.2952630\ttotal: 2.73s\tremaining: 211ms\n",
      "928:\tlearn: 0.2951812\ttotal: 2.73s\tremaining: 209ms\n",
      "929:\tlearn: 0.2950951\ttotal: 2.73s\tremaining: 206ms\n",
      "930:\tlearn: 0.2950270\ttotal: 2.73s\tremaining: 203ms\n",
      "931:\tlearn: 0.2949846\ttotal: 2.74s\tremaining: 200ms\n",
      "932:\tlearn: 0.2948815\ttotal: 2.74s\tremaining: 197ms\n",
      "933:\tlearn: 0.2947924\ttotal: 2.74s\tremaining: 194ms\n",
      "934:\tlearn: 0.2947384\ttotal: 2.75s\tremaining: 191ms\n",
      "935:\tlearn: 0.2946648\ttotal: 2.75s\tremaining: 188ms\n",
      "936:\tlearn: 0.2945692\ttotal: 2.75s\tremaining: 185ms\n",
      "937:\tlearn: 0.2945261\ttotal: 2.75s\tremaining: 182ms\n",
      "938:\tlearn: 0.2944896\ttotal: 2.76s\tremaining: 179ms\n",
      "939:\tlearn: 0.2944355\ttotal: 2.76s\tremaining: 176ms\n",
      "940:\tlearn: 0.2943407\ttotal: 2.76s\tremaining: 173ms\n",
      "941:\tlearn: 0.2942063\ttotal: 2.76s\tremaining: 170ms\n",
      "942:\tlearn: 0.2941004\ttotal: 2.77s\tremaining: 167ms\n",
      "943:\tlearn: 0.2940066\ttotal: 2.77s\tremaining: 164ms\n",
      "944:\tlearn: 0.2939360\ttotal: 2.77s\tremaining: 161ms\n",
      "945:\tlearn: 0.2938551\ttotal: 2.78s\tremaining: 158ms\n",
      "946:\tlearn: 0.2937618\ttotal: 2.78s\tremaining: 156ms\n",
      "947:\tlearn: 0.2936908\ttotal: 2.78s\tremaining: 153ms\n",
      "948:\tlearn: 0.2936240\ttotal: 2.78s\tremaining: 150ms\n",
      "949:\tlearn: 0.2935314\ttotal: 2.79s\tremaining: 147ms\n",
      "950:\tlearn: 0.2934679\ttotal: 2.79s\tremaining: 144ms\n",
      "951:\tlearn: 0.2934268\ttotal: 2.79s\tremaining: 141ms\n",
      "952:\tlearn: 0.2933011\ttotal: 2.79s\tremaining: 138ms\n",
      "953:\tlearn: 0.2932870\ttotal: 2.8s\tremaining: 135ms\n",
      "954:\tlearn: 0.2932409\ttotal: 2.8s\tremaining: 132ms\n",
      "955:\tlearn: 0.2931905\ttotal: 2.8s\tremaining: 129ms\n",
      "956:\tlearn: 0.2931475\ttotal: 2.81s\tremaining: 126ms\n",
      "957:\tlearn: 0.2931012\ttotal: 2.81s\tremaining: 123ms\n",
      "958:\tlearn: 0.2930121\ttotal: 2.81s\tremaining: 120ms\n",
      "959:\tlearn: 0.2929029\ttotal: 2.81s\tremaining: 117ms\n",
      "960:\tlearn: 0.2928640\ttotal: 2.82s\tremaining: 114ms\n",
      "961:\tlearn: 0.2928110\ttotal: 2.82s\tremaining: 111ms\n",
      "962:\tlearn: 0.2927262\ttotal: 2.82s\tremaining: 108ms\n",
      "963:\tlearn: 0.2926577\ttotal: 2.82s\tremaining: 105ms\n",
      "964:\tlearn: 0.2925691\ttotal: 2.83s\tremaining: 103ms\n",
      "965:\tlearn: 0.2924813\ttotal: 2.83s\tremaining: 99.6ms\n",
      "966:\tlearn: 0.2923636\ttotal: 2.83s\tremaining: 96.7ms\n",
      "967:\tlearn: 0.2922333\ttotal: 2.83s\tremaining: 93.7ms\n",
      "968:\tlearn: 0.2921123\ttotal: 2.84s\tremaining: 90.8ms\n",
      "969:\tlearn: 0.2920027\ttotal: 2.84s\tremaining: 87.9ms\n",
      "970:\tlearn: 0.2918775\ttotal: 2.84s\tremaining: 84.9ms\n",
      "971:\tlearn: 0.2918058\ttotal: 2.85s\tremaining: 82ms\n",
      "972:\tlearn: 0.2917406\ttotal: 2.85s\tremaining: 79.1ms\n",
      "973:\tlearn: 0.2916225\ttotal: 2.85s\tremaining: 76.1ms\n",
      "974:\tlearn: 0.2914636\ttotal: 2.85s\tremaining: 73.2ms\n",
      "975:\tlearn: 0.2913726\ttotal: 2.86s\tremaining: 70.3ms\n",
      "976:\tlearn: 0.2912844\ttotal: 2.86s\tremaining: 67.4ms\n",
      "977:\tlearn: 0.2912076\ttotal: 2.86s\tremaining: 64.4ms\n",
      "978:\tlearn: 0.2911352\ttotal: 2.87s\tremaining: 61.5ms\n",
      "979:\tlearn: 0.2910760\ttotal: 2.87s\tremaining: 58.6ms\n",
      "980:\tlearn: 0.2909561\ttotal: 2.87s\tremaining: 55.7ms\n",
      "981:\tlearn: 0.2908663\ttotal: 2.88s\tremaining: 52.7ms\n",
      "982:\tlearn: 0.2907779\ttotal: 2.88s\tremaining: 49.8ms\n",
      "983:\tlearn: 0.2907259\ttotal: 2.88s\tremaining: 46.9ms\n",
      "984:\tlearn: 0.2906404\ttotal: 2.88s\tremaining: 43.9ms\n",
      "985:\tlearn: 0.2905386\ttotal: 2.89s\tremaining: 41ms\n",
      "986:\tlearn: 0.2904370\ttotal: 2.89s\tremaining: 38.1ms\n",
      "987:\tlearn: 0.2903003\ttotal: 2.89s\tremaining: 35.1ms\n",
      "988:\tlearn: 0.2902296\ttotal: 2.9s\tremaining: 32.2ms\n",
      "989:\tlearn: 0.2901141\ttotal: 2.9s\tremaining: 29.3ms\n",
      "990:\tlearn: 0.2900291\ttotal: 2.9s\tremaining: 26.4ms\n",
      "991:\tlearn: 0.2899859\ttotal: 2.91s\tremaining: 23.4ms\n",
      "992:\tlearn: 0.2899170\ttotal: 2.91s\tremaining: 20.5ms\n",
      "993:\tlearn: 0.2897614\ttotal: 2.92s\tremaining: 17.6ms\n",
      "994:\tlearn: 0.2896989\ttotal: 2.92s\tremaining: 14.7ms\n",
      "995:\tlearn: 0.2896284\ttotal: 2.92s\tremaining: 11.7ms\n",
      "996:\tlearn: 0.2895541\ttotal: 2.92s\tremaining: 8.8ms\n",
      "997:\tlearn: 0.2894596\ttotal: 2.93s\tremaining: 5.87ms\n",
      "998:\tlearn: 0.2893878\ttotal: 2.93s\tremaining: 2.93ms\n",
      "999:\tlearn: 0.2892389\ttotal: 2.93s\tremaining: 0us\n",
      "CatBoost:0.5717\n",
      "GradientBoosting:0.5830\n",
      "XGBClassifier:0.5332\n"
     ]
    }
   ],
   "source": [
    "models = [\n",
    "    (\"LogisticRegression\",LogisticRegression(random_state=42)),\n",
    "    (\"AdaBoostClassifier\",AdaBoostClassifier(random_state=42)),\n",
    "    (\"RandomForestClassifier\",RandomForestClassifier(random_state=42)),\n",
    "    (\"DecisionTreeClassifier\",DecisionTreeClassifier(random_state=42)),\n",
    "    (\"Support Vector Classifier\",SVC(random_state=42)),\n",
    "    (\"Lightgbm\",LGBMClassifier(random_state=42)),\n",
    "    (\"CatBoost\",CatBoostClassifier(random_state=42)),\n",
    "    (\"GradientBoosting\",GradientBoostingClassifier(random_state=42)),\n",
    "    (\"XGBClassifier\",XGBClassifier(random_state=42))\n",
    "    \n",
    "]\n",
    "for name,model in models:\n",
    "    model.fit(X_train,y_train)\n",
    "    y_pred=model.predict(X_test)\n",
    "    recall=f1_score(y_test,y_pred)\n",
    "    print(f\"{name}:{recall:.4f}\")"
   ]
  },
  {
   "attachments": {},
   "cell_type": "markdown",
   "id": "0275ff3c",
   "metadata": {},
   "source": [
    "## Feature Selection"
   ]
  },
  {
   "attachments": {},
   "cell_type": "markdown",
   "id": "3076a376",
   "metadata": {},
   "source": [
    "#### Principal Component Analysis"
   ]
  },
  {
   "cell_type": "code",
   "execution_count": 12,
   "id": "960d144d",
   "metadata": {},
   "outputs": [],
   "source": [
    "from sklearn.decomposition import PCA\n",
    "\n",
    "pca = PCA(n_components=10)\n",
    "X_trainpca = pca.fit_transform(X_train)\n",
    "X_testpca=pca.transform(X_test)"
   ]
  },
  {
   "cell_type": "code",
   "execution_count": 13,
   "id": "d2a1f813",
   "metadata": {
    "scrolled": true
   },
   "outputs": [
    {
     "name": "stdout",
     "output_type": "stream",
     "text": [
      "Number of features decreased from 30 to 10.\n"
     ]
    }
   ],
   "source": [
    "print(f\"Number of features decreased from {X_train.shape[1]} to {X_trainpca.shape[1]}.\")"
   ]
  },
  {
   "attachments": {},
   "cell_type": "markdown",
   "id": "154976fd",
   "metadata": {},
   "source": [
    "#### Chi-squared test"
   ]
  },
  {
   "cell_type": "code",
   "execution_count": 14,
   "id": "318843fe",
   "metadata": {},
   "outputs": [],
   "source": [
    "# Perform chi-squared test\n",
    "best_features = SelectKBest(score_func=chi2, k=10)\n",
    "selector = best_features.fit(X_train, y_train)\n",
    "\n",
    "# Get the selected feature indices\n",
    "feature_indices = selector.get_support(indices=True)\n",
    "\n",
    "# Get the names of the selected features\n",
    "selected_featureschi2 = X.columns[feature_indices].tolist()\n",
    "X_trainchi2=X_train[selected_featureschi2]\n",
    "X_testchi2=X_test[selected_featureschi2]"
   ]
  },
  {
   "cell_type": "code",
   "execution_count": 15,
   "id": "7e72985c",
   "metadata": {},
   "outputs": [
    {
     "name": "stdout",
     "output_type": "stream",
     "text": [
      "Number of features decreased from 30 to 10.\n"
     ]
    }
   ],
   "source": [
    "print(f\"Number of features decreased from {X_train.shape[1]} to {X_testchi2.shape[1]}.\")"
   ]
  },
  {
   "attachments": {},
   "cell_type": "markdown",
   "id": "caae7e65",
   "metadata": {},
   "source": [
    "#### Recursive feature elimination"
   ]
  },
  {
   "cell_type": "code",
   "execution_count": 16,
   "id": "01e9419e",
   "metadata": {
    "scrolled": true
   },
   "outputs": [],
   "source": [
    "from sklearn.feature_selection import RFE\n",
    "\n",
    "rfc = RandomForestClassifier()\n",
    "rfe = RFE(estimator=rfc, n_features_to_select=10, step=1)\n",
    "rfe.fit(X_train, y_train)\n",
    "selected_featuresrfe = X_train.columns[rfe.support_]\n",
    "X_trainrfe=X_train[selected_featuresrfe]\n",
    "X_testrfe=X_test[selected_featuresrfe]"
   ]
  },
  {
   "cell_type": "code",
   "execution_count": 17,
   "id": "7b58373d",
   "metadata": {
    "scrolled": true
   },
   "outputs": [
    {
     "name": "stdout",
     "output_type": "stream",
     "text": [
      "Number of features decreased from 30 to 10.\n"
     ]
    }
   ],
   "source": [
    "print(f\"Number of features decreased from {X_train.shape[1]} to {X_trainrfe.shape[1]}.\")"
   ]
  },
  {
   "attachments": {},
   "cell_type": "markdown",
   "id": "22a18006",
   "metadata": {},
   "source": [
    "#### Correlation-based feature selection"
   ]
  },
  {
   "cell_type": "code",
   "execution_count": 18,
   "id": "0285bad6",
   "metadata": {
    "scrolled": true
   },
   "outputs": [],
   "source": [
    "# Calculate the correlation matrix\n",
    "corr_matrix = df.corr()\n",
    "\n",
    "# Identify the features that are highly correlated with the target variable\n",
    "target_corr = corr_matrix[\"Churn\"].sort_values(ascending=False)\n",
    "\n",
    "# Select the top features based on the correlation coefficient\n",
    "selected_featurescor = list(target_corr[(target_corr > 0.2) | (target_corr < -0.2)].drop(\"Churn\").index)\n",
    "X_traincor=X_train[selected_featurescor]\n",
    "X_testcor=X_test[selected_featurescor]"
   ]
  },
  {
   "cell_type": "code",
   "execution_count": 19,
   "id": "6a2b8744",
   "metadata": {
    "scrolled": true
   },
   "outputs": [
    {
     "name": "stdout",
     "output_type": "stream",
     "text": [
      "Number of features decreased from 30 to 11.\n"
     ]
    }
   ],
   "source": [
    "print(f\"Number of features decreased from {X_train.shape[1]} to {X_testcor.shape[1]}.\")"
   ]
  },
  {
   "attachments": {},
   "cell_type": "markdown",
   "id": "ca1f2332",
   "metadata": {},
   "source": [
    "#### Tree-based feature selection"
   ]
  },
  {
   "cell_type": "code",
   "execution_count": 20,
   "id": "a420bfbf",
   "metadata": {},
   "outputs": [],
   "source": [
    "# Create a tree-based classifier object\n",
    "clf = ExtraTreesClassifier()\n",
    "\n",
    "# Fit the classifier on the input features and target variable\n",
    "clf.fit(X_train, y_train)\n",
    "\n",
    "# Get the feature importances\n",
    "importances = clf.feature_importances_\n",
    "\n",
    "# Get the indices of the sorted feature importances\n",
    "sorted_indices = importances.argsort()[::-1]\n",
    "\n",
    "# Select the top K features\n",
    "K = 10\n",
    "selected_indices = sorted_indices[:K]\n",
    "\n",
    "# Get the names of the selected features\n",
    "selected_featurestre = X.columns[selected_indices].tolist()\n",
    "X_traintre=X_train[selected_featurestre]\n",
    "X_testtre=X_test[selected_featurestre]"
   ]
  },
  {
   "cell_type": "code",
   "execution_count": 21,
   "id": "34fdc8a2",
   "metadata": {
    "scrolled": false
   },
   "outputs": [
    {
     "name": "stdout",
     "output_type": "stream",
     "text": [
      "Number of features decreased from 30 to 10.\n"
     ]
    }
   ],
   "source": [
    "print(f\"Number of features decreased from {X_train.shape[1]} to {X_testtre.shape[1]}.\")"
   ]
  },
  {
   "attachments": {},
   "cell_type": "markdown",
   "id": "42d7d729",
   "metadata": {},
   "source": [
    "#### Singular Value Decomposition (SVD)"
   ]
  },
  {
   "cell_type": "code",
   "execution_count": 22,
   "id": "746642d0",
   "metadata": {},
   "outputs": [],
   "source": [
    "n_components = 10\n",
    "svd = TruncatedSVD(n_components=n_components)\n",
    "X_train_svd = svd.fit_transform(X_train)\n",
    "X_test_svd = svd.transform(X_test)"
   ]
  },
  {
   "cell_type": "code",
   "execution_count": 23,
   "id": "e4895d12",
   "metadata": {},
   "outputs": [
    {
     "name": "stdout",
     "output_type": "stream",
     "text": [
      "Number of features decreased from 30 to 10.\n"
     ]
    }
   ],
   "source": [
    "print(f\"Number of features decreased from {X_train.shape[1]} to {X_testtre.shape[1]}.\")"
   ]
  },
  {
   "cell_type": "code",
   "execution_count": 24,
   "id": "df633e65",
   "metadata": {
    "scrolled": false
   },
   "outputs": [
    {
     "name": "stdout",
     "output_type": "stream",
     "text": [
      "Principal Component Analysis Fbeta-Score: 0.5022\n",
      "Chi-Squared Test Fbeta-Score: 0.4756\n",
      "Recursive Feature Elimination Fbeta-Score: 0.5410\n",
      "Correlation-based Feature Selection Fbeta-Score: 0.4883\n",
      "Tree-based Feature Selection Fbeta-Score: 0.5244\n",
      "Singular Value Decomposition(SVD) Fbeta-Score: 0.5385\n"
     ]
    }
   ],
   "source": [
    "# Define the ensemble models to evaluate\n",
    "selections = [\n",
    "    ('Principal Component Analysis', X_trainpca,X_testpca),\n",
    "    ('Chi-Squared Test', X_trainchi2,X_testchi2),\n",
    "    (\"Recursive Feature Elimination\",X_trainrfe,X_testrfe),\n",
    "    (\"Correlation-based Feature Selection\",X_traincor,X_testcor),\n",
    "    (\"Tree-based Feature Selection\",X_traintre,X_testtre),\n",
    "    (\"Singular Value Decomposition(SVD)\",X_train_svd,X_test_svd),\n",
    "    \n",
    "]\n",
    "\n",
    "# Evaluate the models using cross-validation and f1-score\n",
    "for name, train, test in selections:\n",
    "    model=AdaBoostClassifier(random_state=42)\n",
    "    model.fit(train,y_train)\n",
    "    y_pred=model.predict(test)\n",
    "    fbeta=fbeta_score(y_test,y_pred,beta=2)\n",
    "    \n",
    "    print(f\"{name} Fbeta-Score: {fbeta:.4f}\")"
   ]
  },
  {
   "cell_type": "code",
   "execution_count": 25,
   "id": "dd2a3744",
   "metadata": {},
   "outputs": [],
   "source": [
    "X_train=X_trainrfe\n",
    "X_test=X_testrfe"
   ]
  },
  {
   "attachments": {},
   "cell_type": "markdown",
   "id": "5f4d271d",
   "metadata": {},
   "source": [
    "## Sampling"
   ]
  },
  {
   "cell_type": "code",
   "execution_count": 26,
   "id": "d3faaa3d",
   "metadata": {},
   "outputs": [
    {
     "name": "stdout",
     "output_type": "stream",
     "text": [
      "Percentage of Churn:  26.58 %  --> (1869 customer)\n",
      "Percentage of customer did not churn: 73.42  %  --> (5163 customer)\n"
     ]
    }
   ],
   "source": [
    "print(f'Percentage of Churn:  {round(y.value_counts(normalize=True)[1]*100,2)} %  --> ({y.value_counts()[1]} customer)\\nPercentage of customer did not churn: {round(y.value_counts(normalize=True)[0]*100,2)}  %  --> ({y.value_counts()[0]} customer)')"
   ]
  },
  {
   "attachments": {},
   "cell_type": "markdown",
   "id": "564cd283",
   "metadata": {},
   "source": [
    "#### ADASYN"
   ]
  },
  {
   "cell_type": "code",
   "execution_count": 27,
   "id": "4234af5a",
   "metadata": {},
   "outputs": [],
   "source": [
    "from imblearn.over_sampling import ADASYN"
   ]
  },
  {
   "cell_type": "code",
   "execution_count": 28,
   "id": "a9e9c17d",
   "metadata": {},
   "outputs": [],
   "source": [
    "adasyn = ADASYN(random_state=42)\n",
    "X_train_adasyn, y_train_adasyn = adasyn.fit_resample(X_train, y_train)"
   ]
  },
  {
   "cell_type": "code",
   "execution_count": 29,
   "id": "5bc285f4",
   "metadata": {},
   "outputs": [
    {
     "name": "stdout",
     "output_type": "stream",
     "text": [
      "Class distribution after undersampling: [3614 3660]\n"
     ]
    }
   ],
   "source": [
    "print(\"Class distribution after undersampling:\", np.bincount(y_train_adasyn))"
   ]
  },
  {
   "attachments": {},
   "cell_type": "markdown",
   "id": "0db255ed",
   "metadata": {},
   "source": [
    "#### SMOTE (Synthetic Minority Over-sampling Technique)"
   ]
  },
  {
   "cell_type": "code",
   "execution_count": 30,
   "id": "a8f072d2",
   "metadata": {},
   "outputs": [
    {
     "name": "stdout",
     "output_type": "stream",
     "text": [
      "Class distribution after undersampling: [3614 1308]\n"
     ]
    }
   ],
   "source": [
    "from imblearn.over_sampling import SMOTE\n",
    "\n",
    "# Apply SMOTE to the training set\n",
    "smote = SMOTE(random_state=42)\n",
    "X_trainsmo, y_trainsmo = smote.fit_resample(X_train, y_train)\n",
    "\n",
    "print(\"Class distribution after undersampling:\", np.bincount(y_train))"
   ]
  },
  {
   "attachments": {},
   "cell_type": "markdown",
   "id": "19209fa0",
   "metadata": {},
   "source": [
    "#### Random Oversampling"
   ]
  },
  {
   "cell_type": "code",
   "execution_count": 31,
   "id": "e22c46de",
   "metadata": {},
   "outputs": [
    {
     "name": "stdout",
     "output_type": "stream",
     "text": [
      "Class distribution after undersampling: [3614 1308]\n"
     ]
    }
   ],
   "source": [
    "from imblearn.over_sampling import RandomOverSampler\n",
    "\n",
    "# Create an instance of RandomOverSampler\n",
    "ros = RandomOverSampler(random_state=42)\n",
    "\n",
    "# Resample the training data\n",
    "X_trainov, y_trainov = ros.fit_resample(X_train, y_train)\n",
    "\n",
    "print(\"Class distribution after undersampling:\", np.bincount(y_train))"
   ]
  },
  {
   "attachments": {},
   "cell_type": "markdown",
   "id": "330cb486",
   "metadata": {},
   "source": [
    "#### Random Undersampling"
   ]
  },
  {
   "cell_type": "code",
   "execution_count": 32,
   "id": "b337574a",
   "metadata": {
    "scrolled": true
   },
   "outputs": [
    {
     "name": "stdout",
     "output_type": "stream",
     "text": [
      "Class distribution after undersampling: [1308 1308]\n"
     ]
    }
   ],
   "source": [
    "from imblearn.under_sampling import RandomUnderSampler\n",
    "\n",
    "# Define the random undersampler\n",
    "rus = RandomUnderSampler(random_state=42)\n",
    "\n",
    "# Fit and transform the training data\n",
    "X_trainun, y_trainun = rus.fit_resample(X_train, y_train)\n",
    "\n",
    "print(\"Class distribution after undersampling:\", np.bincount(y_trainun))"
   ]
  },
  {
   "cell_type": "code",
   "execution_count": 33,
   "id": "a04c305e",
   "metadata": {
    "scrolled": true
   },
   "outputs": [
    {
     "name": "stdout",
     "output_type": "stream",
     "text": [
      "ADASYN Fbeta-Score: 0.7331\n",
      "SMOTE Fbeta-Score: 0.7199\n",
      "Random Oversampling Fbeta-Score: 0.7127\n",
      "Random Undersampling Fbeta-Score: 0.7111\n"
     ]
    }
   ],
   "source": [
    "# Define the ensemble models to evaluate\n",
    "selections = [\n",
    "    ('ADASYN', X_train_adasyn,y_train_adasyn),\n",
    "    ('SMOTE', X_trainsmo,y_trainsmo),\n",
    "    (\"Random Oversampling\",X_trainov,y_trainov),\n",
    "    (\"Random Undersampling\",X_trainun,y_trainun)\n",
    "]\n",
    "\n",
    "# Evaluate the models using cross-validation and f1-score\n",
    "for name, xtrain,ytrain in selections:\n",
    "    model=AdaBoostClassifier(random_state=42)\n",
    "    model.fit(xtrain,ytrain)\n",
    "    y_pred=model.predict(X_test)\n",
    "    fbeta=fbeta_score(y_test,y_pred,beta=2)\n",
    "    \n",
    "    print(f\"{name} Fbeta-Score: {fbeta:.4f}\")"
   ]
  },
  {
   "cell_type": "code",
   "execution_count": 34,
   "id": "9f9f9390",
   "metadata": {},
   "outputs": [],
   "source": [
    "X_train=X_trainsmo\n",
    "y_train=y_trainsmo"
   ]
  },
  {
   "attachments": {},
   "cell_type": "markdown",
   "id": "e3a6ade6",
   "metadata": {},
   "source": [
    "## Machine Learning Algorithms"
   ]
  },
  {
   "cell_type": "code",
   "execution_count": 35,
   "id": "6a40d6a4",
   "metadata": {},
   "outputs": [],
   "source": [
    "cv = RepeatedStratifiedKFold(n_splits=5, n_repeats=3, random_state=42)\n",
    "scorer=make_scorer(fbeta_score,beta = 2)"
   ]
  },
  {
   "cell_type": "code",
   "execution_count": 68,
   "id": "964a0567",
   "metadata": {
    "scrolled": false
   },
   "outputs": [
    {
     "name": "stdout",
     "output_type": "stream",
     "text": [
      "Fbeta score: 0.7312\n",
      "Avg precision Score: 0.6400\n",
      "RocAuc Score: 0.8307\n",
      "Recall Score: 0.9358\n"
     ]
    }
   ],
   "source": [
    "lgbm=LGBMClassifier(random_state=42,scale_pos_weight=5)\n",
    "\n",
    "param_grid = {\n",
    "    'learning_rate': [0.1, 0.05, 0.01],\n",
    "    'n_estimators': [100, 200, 300],\n",
    "    'max_depth': [3, 5, 7],\n",
    "    'subsample': [0.8, 0.9, 1.0],\n",
    "    'colsample_bytree': [0.8, 0.9, 1.0]\n",
    "}\n",
    "grid = GridSearchCV(lgbm, param_grid, cv=5, scoring=scorer,n_jobs=-1)\n",
    "\n",
    "grid.fit(X_train, y_train)\n",
    "lgbm = grid.best_estimator_\n",
    "y_pred = lgbm.predict(X_test)\n",
    "y_pred_proba = lgbm.predict_proba(X_test)[:,1]\n",
    "\n",
    "print(f\"Fbeta score: {fbeta_score(y_test,y_pred,beta=2):.4f}\")\n",
    "print(f\"Avg precision Score: {average_precision_score(y_test, y_pred_proba):.4f}\")\n",
    "print(f\"RocAuc Score: {roc_auc_score(y_test, y_pred_proba):.4f}\")\n",
    "print(f\"Recall Score: {recall_score(y_test, y_pred):.4f}\")"
   ]
  },
  {
   "cell_type": "code",
   "execution_count": 69,
   "id": "e5563e0f",
   "metadata": {},
   "outputs": [
    {
     "data": {
      "text/html": [
       "<style>#sk-container-id-7 {color: black;background-color: white;}#sk-container-id-7 pre{padding: 0;}#sk-container-id-7 div.sk-toggleable {background-color: white;}#sk-container-id-7 label.sk-toggleable__label {cursor: pointer;display: block;width: 100%;margin-bottom: 0;padding: 0.3em;box-sizing: border-box;text-align: center;}#sk-container-id-7 label.sk-toggleable__label-arrow:before {content: \"▸\";float: left;margin-right: 0.25em;color: #696969;}#sk-container-id-7 label.sk-toggleable__label-arrow:hover:before {color: black;}#sk-container-id-7 div.sk-estimator:hover label.sk-toggleable__label-arrow:before {color: black;}#sk-container-id-7 div.sk-toggleable__content {max-height: 0;max-width: 0;overflow: hidden;text-align: left;background-color: #f0f8ff;}#sk-container-id-7 div.sk-toggleable__content pre {margin: 0.2em;color: black;border-radius: 0.25em;background-color: #f0f8ff;}#sk-container-id-7 input.sk-toggleable__control:checked~div.sk-toggleable__content {max-height: 200px;max-width: 100%;overflow: auto;}#sk-container-id-7 input.sk-toggleable__control:checked~label.sk-toggleable__label-arrow:before {content: \"▾\";}#sk-container-id-7 div.sk-estimator input.sk-toggleable__control:checked~label.sk-toggleable__label {background-color: #d4ebff;}#sk-container-id-7 div.sk-label input.sk-toggleable__control:checked~label.sk-toggleable__label {background-color: #d4ebff;}#sk-container-id-7 input.sk-hidden--visually {border: 0;clip: rect(1px 1px 1px 1px);clip: rect(1px, 1px, 1px, 1px);height: 1px;margin: -1px;overflow: hidden;padding: 0;position: absolute;width: 1px;}#sk-container-id-7 div.sk-estimator {font-family: monospace;background-color: #f0f8ff;border: 1px dotted black;border-radius: 0.25em;box-sizing: border-box;margin-bottom: 0.5em;}#sk-container-id-7 div.sk-estimator:hover {background-color: #d4ebff;}#sk-container-id-7 div.sk-parallel-item::after {content: \"\";width: 100%;border-bottom: 1px solid gray;flex-grow: 1;}#sk-container-id-7 div.sk-label:hover label.sk-toggleable__label {background-color: #d4ebff;}#sk-container-id-7 div.sk-serial::before {content: \"\";position: absolute;border-left: 1px solid gray;box-sizing: border-box;top: 0;bottom: 0;left: 50%;z-index: 0;}#sk-container-id-7 div.sk-serial {display: flex;flex-direction: column;align-items: center;background-color: white;padding-right: 0.2em;padding-left: 0.2em;position: relative;}#sk-container-id-7 div.sk-item {position: relative;z-index: 1;}#sk-container-id-7 div.sk-parallel {display: flex;align-items: stretch;justify-content: center;background-color: white;position: relative;}#sk-container-id-7 div.sk-item::before, #sk-container-id-7 div.sk-parallel-item::before {content: \"\";position: absolute;border-left: 1px solid gray;box-sizing: border-box;top: 0;bottom: 0;left: 50%;z-index: -1;}#sk-container-id-7 div.sk-parallel-item {display: flex;flex-direction: column;z-index: 1;position: relative;background-color: white;}#sk-container-id-7 div.sk-parallel-item:first-child::after {align-self: flex-end;width: 50%;}#sk-container-id-7 div.sk-parallel-item:last-child::after {align-self: flex-start;width: 50%;}#sk-container-id-7 div.sk-parallel-item:only-child::after {width: 0;}#sk-container-id-7 div.sk-dashed-wrapped {border: 1px dashed gray;margin: 0 0.4em 0.5em 0.4em;box-sizing: border-box;padding-bottom: 0.4em;background-color: white;}#sk-container-id-7 div.sk-label label {font-family: monospace;font-weight: bold;display: inline-block;line-height: 1.2em;}#sk-container-id-7 div.sk-label-container {text-align: center;}#sk-container-id-7 div.sk-container {/* jupyter's `normalize.less` sets `[hidden] { display: none; }` but bootstrap.min.css set `[hidden] { display: none !important; }` so we also need the `!important` here to be able to override the default hidden behavior on the sphinx rendered scikit-learn.org. See: https://github.com/scikit-learn/scikit-learn/issues/21755 */display: inline-block !important;position: relative;}#sk-container-id-7 div.sk-text-repr-fallback {display: none;}</style><div id=\"sk-container-id-7\" class=\"sk-top-container\"><div class=\"sk-text-repr-fallback\"><pre>LGBMClassifier(learning_rate=0.05, max_depth=7, random_state=42,\n",
       "               scale_pos_weight=5, subsample=0.8)</pre><b>In a Jupyter environment, please rerun this cell to show the HTML representation or trust the notebook. <br />On GitHub, the HTML representation is unable to render, please try loading this page with nbviewer.org.</b></div><div class=\"sk-container\" hidden><div class=\"sk-item\"><div class=\"sk-estimator sk-toggleable\"><input class=\"sk-toggleable__control sk-hidden--visually\" id=\"sk-estimator-id-16\" type=\"checkbox\" checked><label for=\"sk-estimator-id-16\" class=\"sk-toggleable__label sk-toggleable__label-arrow\">LGBMClassifier</label><div class=\"sk-toggleable__content\"><pre>LGBMClassifier(learning_rate=0.05, max_depth=7, random_state=42,\n",
       "               scale_pos_weight=5, subsample=0.8)</pre></div></div></div></div></div>"
      ],
      "text/plain": [
       "LGBMClassifier(learning_rate=0.05, max_depth=7, random_state=42,\n",
       "               scale_pos_weight=5, subsample=0.8)"
      ]
     },
     "execution_count": 69,
     "metadata": {},
     "output_type": "execute_result"
    }
   ],
   "source": [
    "grid.best_estimator_"
   ]
  },
  {
   "cell_type": "code",
   "execution_count": 70,
   "id": "56ccb4e1",
   "metadata": {},
   "outputs": [
    {
     "data": {
      "text/plain": [
       "{'colsample_bytree': 1.0,\n",
       " 'learning_rate': 0.05,\n",
       " 'max_depth': 7,\n",
       " 'n_estimators': 100,\n",
       " 'subsample': 0.8}"
      ]
     },
     "execution_count": 70,
     "metadata": {},
     "output_type": "execute_result"
    }
   ],
   "source": [
    "grid.best_params_"
   ]
  },
  {
   "attachments": {},
   "cell_type": "markdown",
   "id": "d80a45a9",
   "metadata": {},
   "source": [
    "Fbeta score: 0.7366\n",
    "Avg precision Score: 0.4005\n",
    "RocAuc Score: 0.7222\n",
    "Recall Score: 0.9162"
   ]
  },
  {
   "cell_type": "code",
   "execution_count": 86,
   "id": "00f3f107",
   "metadata": {
    "scrolled": false
   },
   "outputs": [
    {
     "name": "stdout",
     "output_type": "stream",
     "text": [
      "Fbeta score: 0.7332\n",
      "Avg precision Score: 0.6437\n",
      "RocAuc Score: 0.8353\n",
      "Recall Score: 0.9394\n"
     ]
    }
   ],
   "source": [
    "catboost = CatBoostClassifier(verbose=False,random_state=42,scale_pos_weight=5)\n",
    "\n",
    "param_grid = {\n",
    "    'learning_rate': [0.1, 0.05, 0.01],\n",
    "    'iterations': [100, 200, 300],\n",
    "    'depth': [3, 5, 7],\n",
    "    'subsample': [0.8, 0.9, 1.0],\n",
    "    'colsample_bylevel': [0.8, 0.9, 1.0]\n",
    "}\n",
    "\n",
    "grid = GridSearchCV(catboost, param_grid, cv=5, scoring=scorer,n_jobs=-1)\n",
    "\n",
    "grid.fit(X_train, y_train)\n",
    "catboost = grid.best_estimator_\n",
    "y_pred = catboost.predict(X_test)\n",
    "y_pred_proba = catboost.predict_proba(X_test)[:,1]\n",
    "\n",
    "print(f\"Fbeta score: {fbeta_score(y_test,y_pred,beta=2):.4f}\")\n",
    "print(f\"Avg precision Score: {average_precision_score(y_test, y_pred_proba):.4f}\")\n",
    "print(f\"RocAuc Score: {roc_auc_score(y_test, y_pred_proba):.4f}\")\n",
    "print(f\"Recall Score: {recall_score(y_test, y_pred):.4f}\")"
   ]
  },
  {
   "cell_type": "code",
   "execution_count": 87,
   "id": "9e3155b3",
   "metadata": {},
   "outputs": [
    {
     "data": {
      "text/plain": [
       "{'colsample_bylevel': 0.8,\n",
       " 'depth': 7,\n",
       " 'iterations': 200,\n",
       " 'learning_rate': 0.05,\n",
       " 'subsample': 1.0}"
      ]
     },
     "execution_count": 87,
     "metadata": {},
     "output_type": "execute_result"
    }
   ],
   "source": [
    "grid.best_params_"
   ]
  },
  {
   "cell_type": "code",
   "execution_count": 43,
   "id": "e09a68ae",
   "metadata": {},
   "outputs": [
    {
     "name": "stdout",
     "output_type": "stream",
     "text": [
      "Best hyperparameters:  {'C': 100, 'penalty': 'l2'}\n",
      "Fbeta score: 0.7289\n",
      "Avg precision Score: 0.6396\n",
      "RocAuc Score: 0.8288\n",
      "Recall Score: 0.8253\n"
     ]
    }
   ],
   "source": [
    "# Define hyperparameter grid\n",
    "param_grid = {'C': [0.001, 0.1, 1, 100],\n",
    "'penalty': ['l1', 'l2']}\n",
    "# Create an instance of logistic regression\n",
    "logreg = LogisticRegression(random_state=42)\n",
    "\n",
    "\n",
    "# Create an instance of GridSearchCV with 5-fold cross-validation\n",
    "grid = GridSearchCV(logreg, param_grid, cv=5, scoring=scorer)\n",
    "\n",
    "# Fit the grid search to the training data\n",
    "grid.fit(X_train, y_train)\n",
    "\n",
    "logreg=grid.best_estimator_\n",
    "# Print the best hyperparameters and score\n",
    "print(\"Best hyperparameters: \", grid.best_params_)\n",
    "\n",
    "# predict the target values for the test data\n",
    "y_pred = logreg.predict(X_test)\n",
    "y_pred_proba = logreg.predict_proba(X_test)[:,1]\n",
    "\n",
    "print(f\"Fbeta score: {fbeta_score(y_test,y_pred,beta=2):.4f}\")\n",
    "print(f\"Avg precision Score: {average_precision_score(y_test, y_pred_proba):.4f}\")\n",
    "print(f\"RocAuc Score: {roc_auc_score(y_test, y_pred_proba):.4f}\")\n",
    "print(f\"Recall Score: {recall_score(y_test, y_pred):.4f}\")"
   ]
  },
  {
   "attachments": {},
   "cell_type": "markdown",
   "id": "8db485e1",
   "metadata": {},
   "source": [
    "#### Random Forest"
   ]
  },
  {
   "cell_type": "code",
   "execution_count": 44,
   "id": "912b7824",
   "metadata": {
    "scrolled": true
   },
   "outputs": [
    {
     "name": "stdout",
     "output_type": "stream",
     "text": [
      "Fbeta score: 0.6840\n",
      "Avg precision Score: 0.6305\n",
      "RocAuc Score: 0.8307\n",
      "Recall Score: 0.7415\n"
     ]
    }
   ],
   "source": [
    "from sklearn.ensemble import RandomForestClassifier\n",
    "\n",
    "# Define the hyperparameters to test\n",
    "param_grid = {'n_estimators': [100, 200, 400],\n",
    "              'max_depth': [None, 10, 20,40],\n",
    "              'min_samples_split': [2, 5, 10],\n",
    "              'min_samples_leaf': [1, 2, 4]}\n",
    "\n",
    "# Create the Random Forest model\n",
    "rf_model = RandomForestClassifier(random_state=42)\n",
    "\n",
    "# Perform grid search cross-validation to find the best hyperparameters\n",
    "grid = GridSearchCV(rf_model, param_grid, cv=5, scoring=scorer,n_jobs=-1)\n",
    "grid.fit(X_train, y_train)\n",
    "\n",
    "rf=grid.best_estimator_\n",
    "\n",
    "# predict the target values for the test data\n",
    "y_pred = rf.predict(X_test)\n",
    "y_pred_proba = rf.predict_proba(X_test)[:,1]\n",
    "\n",
    "print(f\"Fbeta score: {fbeta_score(y_test,y_pred,beta=2):.4f}\")\n",
    "print(f\"Avg precision Score: {average_precision_score(y_test, y_pred_proba):.4f}\")\n",
    "print(f\"RocAuc Score: {roc_auc_score(y_test, y_pred_proba):.4f}\")\n",
    "print(f\"Recall Score: {recall_score(y_test, y_pred):.4f}\")"
   ]
  },
  {
   "cell_type": "code",
   "execution_count": 47,
   "id": "b288147b",
   "metadata": {},
   "outputs": [
    {
     "data": {
      "text/plain": [
       "{'max_depth': 10,\n",
       " 'min_samples_leaf': 1,\n",
       " 'min_samples_split': 2,\n",
       " 'n_estimators': 200}"
      ]
     },
     "execution_count": 47,
     "metadata": {},
     "output_type": "execute_result"
    }
   ],
   "source": [
    "grid.best_params_"
   ]
  },
  {
   "attachments": {},
   "cell_type": "markdown",
   "id": "6fa2b605",
   "metadata": {},
   "source": [
    "#### Support Vector Machines (SVMs)"
   ]
  },
  {
   "cell_type": "code",
   "execution_count": 48,
   "id": "858c1a09",
   "metadata": {
    "scrolled": true
   },
   "outputs": [
    {
     "name": "stdout",
     "output_type": "stream",
     "text": [
      "Best hyperparameters:  {'C': 0.1, 'gamma': 0.01, 'kernel': 'linear'}\n",
      "Fbeta score: 0.7128\n",
      "Avg precision Score: 0.6381\n",
      "RocAuc Score: 0.8241\n",
      "Recall Score: 0.8717\n"
     ]
    }
   ],
   "source": [
    "from sklearn.svm import SVC\n",
    "\n",
    "# Define the SVM model\n",
    "svm = SVC(probability=True)\n",
    "\n",
    "# Define the hyperparameters to search over\n",
    "param_grid = {'C': [0.1, 1, 10], 'gamma': [0.01,0.1, 1], 'kernel': ['linear', 'rbf']}\n",
    "\n",
    "# Perform a grid search over the hyperparameters\n",
    "grid = GridSearchCV(svm, param_grid, cv=5, scoring=scorer,n_jobs=-1)\n",
    "\n",
    "# Fit the grid search to the training data\n",
    "grid.fit(X_train, y_train)\n",
    "\n",
    "svm=grid.best_estimator_\n",
    "# Print the best hyperparameters and score\n",
    "print(\"Best hyperparameters: \", grid.best_params_)\n",
    "\n",
    "# predict the target values for the test data\n",
    "y_pred = svm.predict(X_test)\n",
    "y_pred_proba = svm.predict_proba(X_test)[:,1]\n",
    "\n",
    "print(f\"Fbeta score: {fbeta_score(y_test,y_pred,beta=2):.4f}\")\n",
    "print(f\"Avg precision Score: {average_precision_score(y_test, y_pred_proba):.4f}\")\n",
    "print(f\"RocAuc Score: {roc_auc_score(y_test, y_pred_proba):.4f}\")\n",
    "print(f\"Recall Score: {recall_score(y_test, y_pred):.4f}\")"
   ]
  },
  {
   "cell_type": "code",
   "execution_count": 72,
   "id": "5cd7c2cc",
   "metadata": {},
   "outputs": [
    {
     "name": "stdout",
     "output_type": "stream",
     "text": [
      "Fbeta score: 0.6840\n",
      "Avg precision Score: 0.6035\n",
      "RocAuc Score: 0.8099\n",
      "Recall Score: 0.7594\n"
     ]
    }
   ],
   "source": [
    "# from sklearn.ensemble import GradientBoostingClassifier\n",
    "from sklearn.model_selection import GridSearchCV\n",
    "\n",
    "# Define the hyperparameters for the GradientBoostingClassifier\n",
    "param_grid = {\n",
    "    'criterion': ['gini', 'entropy'],\n",
    "    'max_depth': [None, 5, 10, 15],\n",
    "    'min_samples_split': [2, 5, 10],\n",
    "    'min_samples_leaf': [1, 2, 4],\n",
    "    'max_features': ['auto', 'sqrt', 'log2']\n",
    "}\n",
    "\n",
    "# Create the GradientBoostingClassifier model with different hyperparameters\n",
    "dt = DecisionTreeClassifier(random_state=42)\n",
    "# Perform grid search cross-validation to find the best hyperparameters\n",
    "grid = GridSearchCV(dt, param_grid, cv=5, scoring=scorer,n_jobs=-1)\n",
    "grid.fit(X_train, y_train)\n",
    "\n",
    "gb=grid.best_estimator_\n",
    "\n",
    "# predict the target values for the test data\n",
    "y_pred = gb.predict(X_test)\n",
    "y_pred_proba = gb.predict_proba(X_test)[:,1]\n",
    "\n",
    "print(f\"Fbeta score: {fbeta_score(y_test,y_pred,beta=2):.4f}\")\n",
    "print(f\"Avg precision Score: {average_precision_score(y_test, y_pred_proba):.4f}\")\n",
    "print(f\"RocAuc Score: {roc_auc_score(y_test, y_pred_proba):.4f}\")\n",
    "print(f\"Recall Score: {recall_score(y_test, y_pred):.4f}\")"
   ]
  },
  {
   "cell_type": "code",
   "execution_count": 73,
   "id": "fd47da2f",
   "metadata": {},
   "outputs": [
    {
     "data": {
      "text/plain": [
       "{'criterion': 'entropy',\n",
       " 'max_depth': 5,\n",
       " 'max_features': 'auto',\n",
       " 'min_samples_leaf': 1,\n",
       " 'min_samples_split': 2}"
      ]
     },
     "execution_count": 73,
     "metadata": {},
     "output_type": "execute_result"
    }
   ],
   "source": [
    "grid.best_params_"
   ]
  },
  {
   "attachments": {},
   "cell_type": "markdown",
   "id": "3e34fedf",
   "metadata": {},
   "source": [
    "### ENSEMBLE METHODS"
   ]
  },
  {
   "attachments": {},
   "cell_type": "markdown",
   "id": "9b3901b3",
   "metadata": {},
   "source": [
    "#### Ensemble of RandomForest and GradientBoosting"
   ]
  },
  {
   "cell_type": "code",
   "execution_count": 49,
   "id": "3c25b979",
   "metadata": {},
   "outputs": [
    {
     "name": "stdout",
     "output_type": "stream",
     "text": [
      "Fbeta score: 0.6640\n",
      "Avg precision Score: 0.6224\n",
      "RocAuc Score: 0.8223\n",
      "Recall Score: 0.7166\n"
     ]
    }
   ],
   "source": [
    "# Define the hyperparameters for the Random Forest\n",
    "rf_params = {\n",
    "    'n_estimators': [50,100, 200],\n",
    "    'max_depth': [5, 10],\n",
    "    'min_samples_split': [2, 5]\n",
    "}\n",
    "\n",
    "# Define the hyperparameters for the Gradient Boosting\n",
    "gb_params = {\n",
    "    'n_estimators': [50, 100,200],\n",
    "    'learning_rate': [0.1, 0.01],\n",
    "    'max_depth': [5, 10]\n",
    "}\n",
    "\n",
    "# Create the individual models with different hyperparameters\n",
    "rf_model = RandomForestClassifier(random_state=42)\n",
    "rf_grid = GridSearchCV(rf_model, rf_params, cv=5,scoring=scorer)\n",
    "\n",
    "gb_model = GradientBoostingClassifier(random_state=42)\n",
    "gb_grid = GridSearchCV(gb_model, gb_params, cv=5,scoring=scorer)\n",
    "\n",
    "# Create the ensemble method\n",
    "ensemble = VotingClassifier([('rf', rf_grid), ('gb', gb_grid)], voting='soft')\n",
    "\n",
    "# Create the full pipeline\n",
    "pipeline = Pipeline(steps=[\n",
    "    ('ensemble', ensemble)\n",
    "])\n",
    "\n",
    "# Fit the pipeline to the training data\n",
    "pipeline.fit(X_train, y_train)\n",
    "\n",
    "# Evaluate the pipeline on the test data using recall score\n",
    "y_pred = pipeline.predict(X_test)\n",
    "y_pred_proba = pipeline.predict_proba(X_test)[:,1]\n",
    "\n",
    "print(f\"Fbeta score: {fbeta_score(y_test,y_pred,beta=2):.4f}\")\n",
    "print(f\"Avg precision Score: {average_precision_score(y_test, y_pred_proba):.4f}\")\n",
    "print(f\"RocAuc Score: {roc_auc_score(y_test, y_pred_proba):.4f}\")\n",
    "print(f\"Recall Score: {recall_score(y_test, y_pred):.4f}\")"
   ]
  },
  {
   "cell_type": "code",
   "execution_count": 54,
   "id": "a682dafd",
   "metadata": {},
   "outputs": [
    {
     "data": {
      "text/html": [
       "<style>#sk-container-id-5 {color: black;background-color: white;}#sk-container-id-5 pre{padding: 0;}#sk-container-id-5 div.sk-toggleable {background-color: white;}#sk-container-id-5 label.sk-toggleable__label {cursor: pointer;display: block;width: 100%;margin-bottom: 0;padding: 0.3em;box-sizing: border-box;text-align: center;}#sk-container-id-5 label.sk-toggleable__label-arrow:before {content: \"▸\";float: left;margin-right: 0.25em;color: #696969;}#sk-container-id-5 label.sk-toggleable__label-arrow:hover:before {color: black;}#sk-container-id-5 div.sk-estimator:hover label.sk-toggleable__label-arrow:before {color: black;}#sk-container-id-5 div.sk-toggleable__content {max-height: 0;max-width: 0;overflow: hidden;text-align: left;background-color: #f0f8ff;}#sk-container-id-5 div.sk-toggleable__content pre {margin: 0.2em;color: black;border-radius: 0.25em;background-color: #f0f8ff;}#sk-container-id-5 input.sk-toggleable__control:checked~div.sk-toggleable__content {max-height: 200px;max-width: 100%;overflow: auto;}#sk-container-id-5 input.sk-toggleable__control:checked~label.sk-toggleable__label-arrow:before {content: \"▾\";}#sk-container-id-5 div.sk-estimator input.sk-toggleable__control:checked~label.sk-toggleable__label {background-color: #d4ebff;}#sk-container-id-5 div.sk-label input.sk-toggleable__control:checked~label.sk-toggleable__label {background-color: #d4ebff;}#sk-container-id-5 input.sk-hidden--visually {border: 0;clip: rect(1px 1px 1px 1px);clip: rect(1px, 1px, 1px, 1px);height: 1px;margin: -1px;overflow: hidden;padding: 0;position: absolute;width: 1px;}#sk-container-id-5 div.sk-estimator {font-family: monospace;background-color: #f0f8ff;border: 1px dotted black;border-radius: 0.25em;box-sizing: border-box;margin-bottom: 0.5em;}#sk-container-id-5 div.sk-estimator:hover {background-color: #d4ebff;}#sk-container-id-5 div.sk-parallel-item::after {content: \"\";width: 100%;border-bottom: 1px solid gray;flex-grow: 1;}#sk-container-id-5 div.sk-label:hover label.sk-toggleable__label {background-color: #d4ebff;}#sk-container-id-5 div.sk-serial::before {content: \"\";position: absolute;border-left: 1px solid gray;box-sizing: border-box;top: 0;bottom: 0;left: 50%;z-index: 0;}#sk-container-id-5 div.sk-serial {display: flex;flex-direction: column;align-items: center;background-color: white;padding-right: 0.2em;padding-left: 0.2em;position: relative;}#sk-container-id-5 div.sk-item {position: relative;z-index: 1;}#sk-container-id-5 div.sk-parallel {display: flex;align-items: stretch;justify-content: center;background-color: white;position: relative;}#sk-container-id-5 div.sk-item::before, #sk-container-id-5 div.sk-parallel-item::before {content: \"\";position: absolute;border-left: 1px solid gray;box-sizing: border-box;top: 0;bottom: 0;left: 50%;z-index: -1;}#sk-container-id-5 div.sk-parallel-item {display: flex;flex-direction: column;z-index: 1;position: relative;background-color: white;}#sk-container-id-5 div.sk-parallel-item:first-child::after {align-self: flex-end;width: 50%;}#sk-container-id-5 div.sk-parallel-item:last-child::after {align-self: flex-start;width: 50%;}#sk-container-id-5 div.sk-parallel-item:only-child::after {width: 0;}#sk-container-id-5 div.sk-dashed-wrapped {border: 1px dashed gray;margin: 0 0.4em 0.5em 0.4em;box-sizing: border-box;padding-bottom: 0.4em;background-color: white;}#sk-container-id-5 div.sk-label label {font-family: monospace;font-weight: bold;display: inline-block;line-height: 1.2em;}#sk-container-id-5 div.sk-label-container {text-align: center;}#sk-container-id-5 div.sk-container {/* jupyter's `normalize.less` sets `[hidden] { display: none; }` but bootstrap.min.css set `[hidden] { display: none !important; }` so we also need the `!important` here to be able to override the default hidden behavior on the sphinx rendered scikit-learn.org. See: https://github.com/scikit-learn/scikit-learn/issues/21755 */display: inline-block !important;position: relative;}#sk-container-id-5 div.sk-text-repr-fallback {display: none;}</style><div id=\"sk-container-id-5\" class=\"sk-top-container\"><div class=\"sk-text-repr-fallback\"><pre>Pipeline(steps=[(&#x27;ensemble&#x27;,\n",
       "                 VotingClassifier(estimators=[(&#x27;rf&#x27;,\n",
       "                                               GridSearchCV(cv=5,\n",
       "                                                            estimator=RandomForestClassifier(random_state=42),\n",
       "                                                            param_grid={&#x27;max_depth&#x27;: [5,\n",
       "                                                                                      10],\n",
       "                                                                        &#x27;min_samples_split&#x27;: [2,\n",
       "                                                                                              5],\n",
       "                                                                        &#x27;n_estimators&#x27;: [50,\n",
       "                                                                                         100,\n",
       "                                                                                         200]},\n",
       "                                                            scoring=make_scorer(fbeta_score, beta=2))),\n",
       "                                              (&#x27;gb&#x27;,\n",
       "                                               GridSearchCV(cv=5,\n",
       "                                                            estimator=GradientBoostingClassifier(random_state=42),\n",
       "                                                            param_grid={&#x27;learning_rate&#x27;: [0.1,\n",
       "                                                                                          0.01],\n",
       "                                                                        &#x27;max_depth&#x27;: [5,\n",
       "                                                                                      10],\n",
       "                                                                        &#x27;n_estimators&#x27;: [50,\n",
       "                                                                                         100,\n",
       "                                                                                         200]},\n",
       "                                                            scoring=make_scorer(fbeta_score, beta=2)))],\n",
       "                                  voting=&#x27;soft&#x27;))])</pre><b>In a Jupyter environment, please rerun this cell to show the HTML representation or trust the notebook. <br />On GitHub, the HTML representation is unable to render, please try loading this page with nbviewer.org.</b></div><div class=\"sk-container\" hidden><div class=\"sk-item sk-dashed-wrapped\"><div class=\"sk-label-container\"><div class=\"sk-label sk-toggleable\"><input class=\"sk-toggleable__control sk-hidden--visually\" id=\"sk-estimator-id-7\" type=\"checkbox\" ><label for=\"sk-estimator-id-7\" class=\"sk-toggleable__label sk-toggleable__label-arrow\">Pipeline</label><div class=\"sk-toggleable__content\"><pre>Pipeline(steps=[(&#x27;ensemble&#x27;,\n",
       "                 VotingClassifier(estimators=[(&#x27;rf&#x27;,\n",
       "                                               GridSearchCV(cv=5,\n",
       "                                                            estimator=RandomForestClassifier(random_state=42),\n",
       "                                                            param_grid={&#x27;max_depth&#x27;: [5,\n",
       "                                                                                      10],\n",
       "                                                                        &#x27;min_samples_split&#x27;: [2,\n",
       "                                                                                              5],\n",
       "                                                                        &#x27;n_estimators&#x27;: [50,\n",
       "                                                                                         100,\n",
       "                                                                                         200]},\n",
       "                                                            scoring=make_scorer(fbeta_score, beta=2))),\n",
       "                                              (&#x27;gb&#x27;,\n",
       "                                               GridSearchCV(cv=5,\n",
       "                                                            estimator=GradientBoostingClassifier(random_state=42),\n",
       "                                                            param_grid={&#x27;learning_rate&#x27;: [0.1,\n",
       "                                                                                          0.01],\n",
       "                                                                        &#x27;max_depth&#x27;: [5,\n",
       "                                                                                      10],\n",
       "                                                                        &#x27;n_estimators&#x27;: [50,\n",
       "                                                                                         100,\n",
       "                                                                                         200]},\n",
       "                                                            scoring=make_scorer(fbeta_score, beta=2)))],\n",
       "                                  voting=&#x27;soft&#x27;))])</pre></div></div></div><div class=\"sk-serial\"><div class=\"sk-item sk-dashed-wrapped\"><div class=\"sk-label-container\"><div class=\"sk-label sk-toggleable\"><input class=\"sk-toggleable__control sk-hidden--visually\" id=\"sk-estimator-id-8\" type=\"checkbox\" ><label for=\"sk-estimator-id-8\" class=\"sk-toggleable__label sk-toggleable__label-arrow\">ensemble: VotingClassifier</label><div class=\"sk-toggleable__content\"><pre>VotingClassifier(estimators=[(&#x27;rf&#x27;,\n",
       "                              GridSearchCV(cv=5,\n",
       "                                           estimator=RandomForestClassifier(random_state=42),\n",
       "                                           param_grid={&#x27;max_depth&#x27;: [5, 10],\n",
       "                                                       &#x27;min_samples_split&#x27;: [2,\n",
       "                                                                             5],\n",
       "                                                       &#x27;n_estimators&#x27;: [50, 100,\n",
       "                                                                        200]},\n",
       "                                           scoring=make_scorer(fbeta_score, beta=2))),\n",
       "                             (&#x27;gb&#x27;,\n",
       "                              GridSearchCV(cv=5,\n",
       "                                           estimator=GradientBoostingClassifier(random_state=42),\n",
       "                                           param_grid={&#x27;learning_rate&#x27;: [0.1,\n",
       "                                                                         0.01],\n",
       "                                                       &#x27;max_depth&#x27;: [5, 10],\n",
       "                                                       &#x27;n_estimators&#x27;: [50, 100,\n",
       "                                                                        200]},\n",
       "                                           scoring=make_scorer(fbeta_score, beta=2)))],\n",
       "                 voting=&#x27;soft&#x27;)</pre></div></div></div><div class=\"sk-parallel\"><div class=\"sk-parallel-item\"><div class=\"sk-item\"><div class=\"sk-label-container\"><div class=\"sk-label sk-toggleable\"><label>rf</label></div></div><div class=\"sk-serial\"><div class=\"sk-item sk-dashed-wrapped\"><div class=\"sk-parallel\"><div class=\"sk-parallel-item\"><div class=\"sk-item\"><div class=\"sk-label-container\"><div class=\"sk-label sk-toggleable\"><input class=\"sk-toggleable__control sk-hidden--visually\" id=\"sk-estimator-id-9\" type=\"checkbox\" ><label for=\"sk-estimator-id-9\" class=\"sk-toggleable__label sk-toggleable__label-arrow\">estimator: RandomForestClassifier</label><div class=\"sk-toggleable__content\"><pre>RandomForestClassifier(random_state=42)</pre></div></div></div><div class=\"sk-serial\"><div class=\"sk-item\"><div class=\"sk-estimator sk-toggleable\"><input class=\"sk-toggleable__control sk-hidden--visually\" id=\"sk-estimator-id-10\" type=\"checkbox\" ><label for=\"sk-estimator-id-10\" class=\"sk-toggleable__label sk-toggleable__label-arrow\">RandomForestClassifier</label><div class=\"sk-toggleable__content\"><pre>RandomForestClassifier(random_state=42)</pre></div></div></div></div></div></div></div></div></div></div></div><div class=\"sk-parallel-item\"><div class=\"sk-item\"><div class=\"sk-label-container\"><div class=\"sk-label sk-toggleable\"><label>gb</label></div></div><div class=\"sk-serial\"><div class=\"sk-item sk-dashed-wrapped\"><div class=\"sk-parallel\"><div class=\"sk-parallel-item\"><div class=\"sk-item\"><div class=\"sk-label-container\"><div class=\"sk-label sk-toggleable\"><input class=\"sk-toggleable__control sk-hidden--visually\" id=\"sk-estimator-id-11\" type=\"checkbox\" ><label for=\"sk-estimator-id-11\" class=\"sk-toggleable__label sk-toggleable__label-arrow\">estimator: GradientBoostingClassifier</label><div class=\"sk-toggleable__content\"><pre>GradientBoostingClassifier(random_state=42)</pre></div></div></div><div class=\"sk-serial\"><div class=\"sk-item\"><div class=\"sk-estimator sk-toggleable\"><input class=\"sk-toggleable__control sk-hidden--visually\" id=\"sk-estimator-id-12\" type=\"checkbox\" ><label for=\"sk-estimator-id-12\" class=\"sk-toggleable__label sk-toggleable__label-arrow\">GradientBoostingClassifier</label><div class=\"sk-toggleable__content\"><pre>GradientBoostingClassifier(random_state=42)</pre></div></div></div></div></div></div></div></div></div></div></div></div></div></div></div></div></div>"
      ],
      "text/plain": [
       "Pipeline(steps=[('ensemble',\n",
       "                 VotingClassifier(estimators=[('rf',\n",
       "                                               GridSearchCV(cv=5,\n",
       "                                                            estimator=RandomForestClassifier(random_state=42),\n",
       "                                                            param_grid={'max_depth': [5,\n",
       "                                                                                      10],\n",
       "                                                                        'min_samples_split': [2,\n",
       "                                                                                              5],\n",
       "                                                                        'n_estimators': [50,\n",
       "                                                                                         100,\n",
       "                                                                                         200]},\n",
       "                                                            scoring=make_scorer(fbeta_score, beta=2))),\n",
       "                                              ('gb',\n",
       "                                               GridSearchCV(cv=5,\n",
       "                                                            estimator=GradientBoostingClassifier(random_state=42),\n",
       "                                                            param_grid={'learning_rate': [0.1,\n",
       "                                                                                          0.01],\n",
       "                                                                        'max_depth': [5,\n",
       "                                                                                      10],\n",
       "                                                                        'n_estimators': [50,\n",
       "                                                                                         100,\n",
       "                                                                                         200]},\n",
       "                                                            scoring=make_scorer(fbeta_score, beta=2)))],\n",
       "                                  voting='soft'))])"
      ]
     },
     "execution_count": 54,
     "metadata": {},
     "output_type": "execute_result"
    }
   ],
   "source": [
    "pipeline"
   ]
  },
  {
   "attachments": {},
   "cell_type": "markdown",
   "id": "d968a8bf",
   "metadata": {},
   "source": [
    "#### AdaBoostClassifier"
   ]
  },
  {
   "cell_type": "code",
   "execution_count": 65,
   "id": "f3273735",
   "metadata": {
    "scrolled": true
   },
   "outputs": [
    {
     "name": "stdout",
     "output_type": "stream",
     "text": [
      "Fbeta score: 0.7214\n",
      "Avg precision Score: 0.6404\n",
      "RocAuc Score: 0.8372\n",
      "Recall Score: 0.8057\n"
     ]
    }
   ],
   "source": [
    "from sklearn.ensemble import AdaBoostClassifier\n",
    "from sklearn.tree import DecisionTreeClassifier\n",
    "# Define the base estimator\n",
    "estimator = DecisionTreeClassifier()\n",
    "\n",
    "# Define the Adaboost classifier with the base estimator\n",
    "ada = AdaBoostClassifier(base_estimator=estimator)\n",
    "\n",
    "# Define the hyperparameters for the AdaBoostClassifier\n",
    "param_grid = {\n",
    "    'base_estimator__max_depth': [1,2,4],\n",
    "    \"base_estimator__criterion\":[\"gini\",\"entropy\"],\n",
    "    \"base_estimator__max_features\": [\"auto\",\"sqrt\",\"log2\"],\n",
    "    'n_estimators': [50, 100, 200],\n",
    "    'base_estimator__max_leaf_nodes':[3,4,6]\n",
    "}\n",
    "# Create the AdaBoostClassifier model with different hyperparameters\n",
    "grid = GridSearchCV(ada, param_grid,cv=5, scoring=scorer,n_jobs=-1)\n",
    "\n",
    "# Fit the pipeline to the training data\n",
    "grid.fit(X_train, y_train)\n",
    "\n",
    "# Get the best estimator found by the grid search\n",
    "adaboost = grid.best_estimator_\n",
    "\n",
    "\n",
    "# predict the target values for the test data\n",
    "y_pred = adaboost.predict(X_test)\n",
    "y_pred_proba = adaboost.predict_proba(X_test)[:,1]\n",
    "\n",
    "print(f\"Fbeta score: {fbeta_score(y_test,y_pred,beta=2):.4f}\")\n",
    "print(f\"Avg precision Score: {average_precision_score(y_test, y_pred_proba):.4f}\")\n",
    "print(f\"RocAuc Score: {roc_auc_score(y_test, y_pred_proba):.4f}\")\n",
    "print(f\"Recall Score: {recall_score(y_test, y_pred):.4f}\")"
   ]
  },
  {
   "cell_type": "code",
   "execution_count": 66,
   "id": "b4019c74",
   "metadata": {},
   "outputs": [
    {
     "data": {
      "text/plain": [
       "{'base_estimator__criterion': 'entropy',\n",
       " 'base_estimator__max_depth': 1,\n",
       " 'base_estimator__max_features': 'auto',\n",
       " 'base_estimator__max_leaf_nodes': 6,\n",
       " 'n_estimators': 50}"
      ]
     },
     "execution_count": 66,
     "metadata": {},
     "output_type": "execute_result"
    }
   ],
   "source": [
    "grid.best_params_"
   ]
  },
  {
   "attachments": {},
   "cell_type": "markdown",
   "id": "4ad80c15",
   "metadata": {},
   "source": [
    "#### Gradient Boosting Classifier"
   ]
  },
  {
   "cell_type": "code",
   "execution_count": 55,
   "id": "a6777e59",
   "metadata": {
    "scrolled": true
   },
   "outputs": [
    {
     "name": "stdout",
     "output_type": "stream",
     "text": [
      "Fbeta score: 0.6622\n",
      "Avg precision Score: 0.6300\n",
      "RocAuc Score: 0.8246\n",
      "Recall Score: 0.7094\n"
     ]
    }
   ],
   "source": [
    "# from sklearn.ensemble import GradientBoostingClassifier\n",
    "from sklearn.model_selection import GridSearchCV\n",
    "\n",
    "# Define the hyperparameters for the GradientBoostingClassifier\n",
    "param_grid = {\n",
    "    'max_depth': [3, 4,5],\n",
    "    'n_estimators': [50, 100, 200],\n",
    "    'min_samples_split': [2,3, 4],\n",
    "    'min_samples_leaf': [1, 2, 3],\n",
    "    \"max_features\":[\"log2\",\"sqrt\"]\n",
    "}\n",
    "\n",
    "# Create the GradientBoostingClassifier model with different hyperparameters\n",
    "model = GradientBoostingClassifier(random_state=42)\n",
    "# Perform grid search cross-validation to find the best hyperparameters\n",
    "grid = GridSearchCV(model, param_grid, cv=5, scoring=scorer,n_jobs=-1)\n",
    "grid.fit(X_train, y_train)\n",
    "\n",
    "gb=grid.best_estimator_\n",
    "\n",
    "# predict the target values for the test data\n",
    "y_pred = gb.predict(X_test)\n",
    "y_pred_proba = gb.predict_proba(X_test)[:,1]\n",
    "\n",
    "print(f\"Fbeta score: {fbeta_score(y_test,y_pred,beta=2):.4f}\")\n",
    "print(f\"Avg precision Score: {average_precision_score(y_test, y_pred_proba):.4f}\")\n",
    "print(f\"RocAuc Score: {roc_auc_score(y_test, y_pred_proba):.4f}\")\n",
    "print(f\"Recall Score: {recall_score(y_test, y_pred):.4f}\")"
   ]
  },
  {
   "attachments": {},
   "cell_type": "markdown",
   "id": "432c8a62",
   "metadata": {},
   "source": [
    "#### XGBoost Classifier"
   ]
  },
  {
   "cell_type": "code",
   "execution_count": 74,
   "id": "2804c9eb",
   "metadata": {},
   "outputs": [
    {
     "name": "stdout",
     "output_type": "stream",
     "text": [
      "Fbeta score: 0.7161\n",
      "Avg precision Score: 0.5964\n",
      "RocAuc Score: 0.8173\n",
      "Recall Score: 0.8164\n"
     ]
    }
   ],
   "source": [
    "import xgboost as xgb\n",
    "from sklearn.model_selection import GridSearchCV\n",
    "from sklearn.metrics import recall_score\n",
    "\n",
    "# Define the hyperparameters for the XGBoost Classifier\n",
    "param_grid = {\n",
    "    'max_depth': [3, 4, 5],\n",
    "    'learning_rate': [0.01, 0.05, 0.1],\n",
    "    'n_estimators': [50, 100, 200],\n",
    "    'min_child_weight': [1, 3, 5],\n",
    "    'gamma': [0, 0.1, 0.2],\n",
    "    'colsample_bytree': [0.5, 0.75, 1.0]\n",
    "}\n",
    "\n",
    "# Create the XGBoost Classifier model with different hyperparameters\n",
    "model = xgb.XGBClassifier(random_state=42)\n",
    "grid = GridSearchCV(model, param_grid, cv=5, scoring=scorer,n_jobs=-1)\n",
    "grid.fit(X_train, y_train)\n",
    "\n",
    "xgb=grid.best_estimator_\n",
    "\n",
    "# predict the target values for the test data\n",
    "y_pred = xgb.predict(X_test)\n",
    "y_pred_proba = xgb.predict_proba(X_test)[:,1]\n",
    "\n",
    "print(f\"Fbeta score: {fbeta_score(y_test,y_pred,beta=2):.4f}\")\n",
    "print(f\"Avg precision Score: {average_precision_score(y_test, y_pred_proba):.4f}\")\n",
    "print(f\"RocAuc Score: {roc_auc_score(y_test, y_pred_proba):.4f}\")\n",
    "print(f\"Recall Score: {recall_score(y_test, y_pred):.4f}\")"
   ]
  },
  {
   "cell_type": "code",
   "execution_count": 77,
   "id": "92f96d55",
   "metadata": {},
   "outputs": [
    {
     "data": {
      "text/html": [
       "<style>#sk-container-id-8 {color: black;background-color: white;}#sk-container-id-8 pre{padding: 0;}#sk-container-id-8 div.sk-toggleable {background-color: white;}#sk-container-id-8 label.sk-toggleable__label {cursor: pointer;display: block;width: 100%;margin-bottom: 0;padding: 0.3em;box-sizing: border-box;text-align: center;}#sk-container-id-8 label.sk-toggleable__label-arrow:before {content: \"▸\";float: left;margin-right: 0.25em;color: #696969;}#sk-container-id-8 label.sk-toggleable__label-arrow:hover:before {color: black;}#sk-container-id-8 div.sk-estimator:hover label.sk-toggleable__label-arrow:before {color: black;}#sk-container-id-8 div.sk-toggleable__content {max-height: 0;max-width: 0;overflow: hidden;text-align: left;background-color: #f0f8ff;}#sk-container-id-8 div.sk-toggleable__content pre {margin: 0.2em;color: black;border-radius: 0.25em;background-color: #f0f8ff;}#sk-container-id-8 input.sk-toggleable__control:checked~div.sk-toggleable__content {max-height: 200px;max-width: 100%;overflow: auto;}#sk-container-id-8 input.sk-toggleable__control:checked~label.sk-toggleable__label-arrow:before {content: \"▾\";}#sk-container-id-8 div.sk-estimator input.sk-toggleable__control:checked~label.sk-toggleable__label {background-color: #d4ebff;}#sk-container-id-8 div.sk-label input.sk-toggleable__control:checked~label.sk-toggleable__label {background-color: #d4ebff;}#sk-container-id-8 input.sk-hidden--visually {border: 0;clip: rect(1px 1px 1px 1px);clip: rect(1px, 1px, 1px, 1px);height: 1px;margin: -1px;overflow: hidden;padding: 0;position: absolute;width: 1px;}#sk-container-id-8 div.sk-estimator {font-family: monospace;background-color: #f0f8ff;border: 1px dotted black;border-radius: 0.25em;box-sizing: border-box;margin-bottom: 0.5em;}#sk-container-id-8 div.sk-estimator:hover {background-color: #d4ebff;}#sk-container-id-8 div.sk-parallel-item::after {content: \"\";width: 100%;border-bottom: 1px solid gray;flex-grow: 1;}#sk-container-id-8 div.sk-label:hover label.sk-toggleable__label {background-color: #d4ebff;}#sk-container-id-8 div.sk-serial::before {content: \"\";position: absolute;border-left: 1px solid gray;box-sizing: border-box;top: 0;bottom: 0;left: 50%;z-index: 0;}#sk-container-id-8 div.sk-serial {display: flex;flex-direction: column;align-items: center;background-color: white;padding-right: 0.2em;padding-left: 0.2em;position: relative;}#sk-container-id-8 div.sk-item {position: relative;z-index: 1;}#sk-container-id-8 div.sk-parallel {display: flex;align-items: stretch;justify-content: center;background-color: white;position: relative;}#sk-container-id-8 div.sk-item::before, #sk-container-id-8 div.sk-parallel-item::before {content: \"\";position: absolute;border-left: 1px solid gray;box-sizing: border-box;top: 0;bottom: 0;left: 50%;z-index: -1;}#sk-container-id-8 div.sk-parallel-item {display: flex;flex-direction: column;z-index: 1;position: relative;background-color: white;}#sk-container-id-8 div.sk-parallel-item:first-child::after {align-self: flex-end;width: 50%;}#sk-container-id-8 div.sk-parallel-item:last-child::after {align-self: flex-start;width: 50%;}#sk-container-id-8 div.sk-parallel-item:only-child::after {width: 0;}#sk-container-id-8 div.sk-dashed-wrapped {border: 1px dashed gray;margin: 0 0.4em 0.5em 0.4em;box-sizing: border-box;padding-bottom: 0.4em;background-color: white;}#sk-container-id-8 div.sk-label label {font-family: monospace;font-weight: bold;display: inline-block;line-height: 1.2em;}#sk-container-id-8 div.sk-label-container {text-align: center;}#sk-container-id-8 div.sk-container {/* jupyter's `normalize.less` sets `[hidden] { display: none; }` but bootstrap.min.css set `[hidden] { display: none !important; }` so we also need the `!important` here to be able to override the default hidden behavior on the sphinx rendered scikit-learn.org. See: https://github.com/scikit-learn/scikit-learn/issues/21755 */display: inline-block !important;position: relative;}#sk-container-id-8 div.sk-text-repr-fallback {display: none;}</style><div id=\"sk-container-id-8\" class=\"sk-top-container\"><div class=\"sk-text-repr-fallback\"><pre>XGBClassifier(base_score=None, booster=None, callbacks=None,\n",
       "              colsample_bylevel=None, colsample_bynode=None,\n",
       "              colsample_bytree=1.0, early_stopping_rounds=None,\n",
       "              enable_categorical=False, eval_metric=None, feature_types=None,\n",
       "              gamma=0, gpu_id=None, grow_policy=None, importance_type=None,\n",
       "              interaction_constraints=None, learning_rate=0.01, max_bin=None,\n",
       "              max_cat_threshold=None, max_cat_to_onehot=None,\n",
       "              max_delta_step=None, max_depth=3, max_leaves=None,\n",
       "              min_child_weight=1, missing=nan, monotone_constraints=None,\n",
       "              n_estimators=50, n_jobs=None, num_parallel_tree=None,\n",
       "              predictor=None, random_state=42, ...)</pre><b>In a Jupyter environment, please rerun this cell to show the HTML representation or trust the notebook. <br />On GitHub, the HTML representation is unable to render, please try loading this page with nbviewer.org.</b></div><div class=\"sk-container\" hidden><div class=\"sk-item\"><div class=\"sk-estimator sk-toggleable\"><input class=\"sk-toggleable__control sk-hidden--visually\" id=\"sk-estimator-id-17\" type=\"checkbox\" checked><label for=\"sk-estimator-id-17\" class=\"sk-toggleable__label sk-toggleable__label-arrow\">XGBClassifier</label><div class=\"sk-toggleable__content\"><pre>XGBClassifier(base_score=None, booster=None, callbacks=None,\n",
       "              colsample_bylevel=None, colsample_bynode=None,\n",
       "              colsample_bytree=1.0, early_stopping_rounds=None,\n",
       "              enable_categorical=False, eval_metric=None, feature_types=None,\n",
       "              gamma=0, gpu_id=None, grow_policy=None, importance_type=None,\n",
       "              interaction_constraints=None, learning_rate=0.01, max_bin=None,\n",
       "              max_cat_threshold=None, max_cat_to_onehot=None,\n",
       "              max_delta_step=None, max_depth=3, max_leaves=None,\n",
       "              min_child_weight=1, missing=nan, monotone_constraints=None,\n",
       "              n_estimators=50, n_jobs=None, num_parallel_tree=None,\n",
       "              predictor=None, random_state=42, ...)</pre></div></div></div></div></div>"
      ],
      "text/plain": [
       "XGBClassifier(base_score=None, booster=None, callbacks=None,\n",
       "              colsample_bylevel=None, colsample_bynode=None,\n",
       "              colsample_bytree=1.0, early_stopping_rounds=None,\n",
       "              enable_categorical=False, eval_metric=None, feature_types=None,\n",
       "              gamma=0, gpu_id=None, grow_policy=None, importance_type=None,\n",
       "              interaction_constraints=None, learning_rate=0.01, max_bin=None,\n",
       "              max_cat_threshold=None, max_cat_to_onehot=None,\n",
       "              max_delta_step=None, max_depth=3, max_leaves=None,\n",
       "              min_child_weight=1, missing=nan, monotone_constraints=None,\n",
       "              n_estimators=50, n_jobs=None, num_parallel_tree=None,\n",
       "              predictor=None, random_state=42, ...)"
      ]
     },
     "execution_count": 77,
     "metadata": {},
     "output_type": "execute_result"
    }
   ],
   "source": [
    "grid.best_estimator_"
   ]
  },
  {
   "cell_type": "code",
   "execution_count": 59,
   "id": "12a98c38",
   "metadata": {},
   "outputs": [],
   "source": [
    "from sklearn.metrics import ConfusionMatrixDisplay\n"
   ]
  },
  {
   "cell_type": "code",
   "execution_count": 60,
   "id": "372b0a61",
   "metadata": {
    "scrolled": true
   },
   "outputs": [
    {
     "data": {
      "text/plain": [
       "<sklearn.metrics._plot.confusion_matrix.ConfusionMatrixDisplay at 0x7fb8480c9b50>"
      ]
     },
     "execution_count": 60,
     "metadata": {},
     "output_type": "execute_result"
    },
    {
     "data": {
      "image/png": "[encoded data removed]",
      "text/plain": [
       "<Figure size 432x288 with 2 Axes>"
      ]
     },
     "metadata": {
      "needs_background": "light"
     },
     "output_type": "display_data"
    }
   ],
   "source": [
    "ConfusionMatrixDisplay.from_estimator(catboost, X_test, y_test)"
   ]
  },
  {
   "cell_type": "code",
   "execution_count": 75,
   "id": "b1aea4e5",
   "metadata": {},
   "outputs": [
    {
     "data": {
      "text/plain": [
       "Text(0.5, 1.0, 'Feature Importance')"
      ]
     },
     "execution_count": 75,
     "metadata": {},
     "output_type": "execute_result"
    },
    {
     "data": {
      "image/png": "[encoded data removed]",
      "text/plain": [
       "<Figure size 864x432 with 1 Axes>"
      ]
     },
     "metadata": {
      "needs_background": "light"
     },
     "output_type": "display_data"
    }
   ],
   "source": [
    "feature_importance = catboost.feature_importances_\n",
    "sorted_idx = np.argsort(feature_importance)\n",
    "fig = plt.figure(figsize=(12, 6))\n",
    "plt.barh(range(len(sorted_idx)), feature_importance[sorted_idx], align='center')\n",
    "plt.yticks(range(len(sorted_idx)), np.array(X_test.columns)[sorted_idx])\n",
    "plt.title('Feature Importance')"
   ]
  },
  {
   "cell_type": "code",
   "execution_count": 68,
   "id": "252a408d",
   "metadata": {},
   "outputs": [],
   "source": [
    "def graphs(model,X_test,y_test):\n",
    "     plt.figure(figsize=(10,6))\n",
    "     y_pred_proba = model.predict_proba(X_test)[:,1]\n",
    "\n",
    "     #prc curve\n",
    "     plt.subplot(1, 2, 1)\n",
    "     precision, recall, _ = precision_recall_curve(y_test, y_pred_proba)\n",
    "     auprc = round(average_precision_score(y_test, y_pred_proba),4)\n",
    "    \n",
    "     plt.plot(precision,recall, label =\"AP: \" + str(auprc))\n",
    "     plt.legend(loc=3)\n",
    "     plt.title(\"Precision Recall Curve\")\n",
    "     plt.ylabel(\"Precision\")\n",
    "     plt.xlabel(\"Recall\")\n",
    "\n",
    "     #roc curve\n",
    "     y_pred_proba = model.predict_proba(X_test)[:,1]\n",
    "     fpr,tpr,_ = roc_curve(y_test,y_pred_proba)\n",
    "     auc = round(roc_auc_score(y_test, y_pred_proba),4)\n",
    "     plt.subplot(1, 2, 2)\n",
    "     plt.plot(fpr,tpr,label =\"AUC: \"+str(auc))\n",
    "     plt.ylabel('True Positive Rate')\n",
    "     plt.xlabel('False Positive Rate')\n",
    "     plt.legend(loc=4)\n",
    "     plt.title(\"ROC Curve\")\n",
    "\n",
    "     \n",
    "     plt.show()"
   ]
  },
  {
   "cell_type": "code",
   "execution_count": 69,
   "id": "bfa759bc",
   "metadata": {
    "scrolled": true
   },
   "outputs": [
    {
     "data": {
      "image/png": "[encoded data removed]",
      "text/plain": [
       "<Figure size 720x432 with 2 Axes>"
      ]
     },
     "metadata": {
      "needs_background": "light"
     },
     "output_type": "display_data"
    }
   ],
   "source": [
    "graphs(catboost,X_test,y_test)"
   ]
  }
 ],
 "metadata": {
  "kernelspec": {
   "display_name": "Python 3 (ipykernel)",
   "language": "python",
   "name": "python3"
  },
  "language_info": {
   "codemirror_mode": {
    "name": "ipython",
    "version": 3
   },
   "file_extension": ".py",
   "mimetype": "text/x-python",
   "name": "python",
   "nbconvert_exporter": "python",
   "pygments_lexer": "ipython3",
   "version": "3.9.5"
  }
 },
 "nbformat": 4,
 "nbformat_minor": 5
}
